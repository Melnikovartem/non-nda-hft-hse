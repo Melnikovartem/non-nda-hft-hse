{
 "cells": [
  {
   "cell_type": "markdown",
   "id": "f87be45a",
   "metadata": {},
   "source": [
    "## Libs and data"
   ]
  },
  {
   "cell_type": "code",
   "execution_count": 2,
   "id": "8590d7c4",
   "metadata": {},
   "outputs": [],
   "source": [
    "import numpy as np\n",
    "import pandas as pd\n",
    "pd.set_option('display.max_rows', 100)\n",
    "pd.set_option('display.max_columns', 100)\n",
    "\n",
    "import matplotlib.pyplot as plt\n",
    "import seaborn as sns\n",
    "sns.set(style='whitegrid')\n",
    "\n",
    "from tqdm.auto import tqdm\n",
    "import os\n",
    "\n",
    "%config InlineBackend.figure_format = 'retina'\n",
    "plt.rcParams['figure.figsize'] = 12, 6\n",
    "plt.rcParams['font.size'] = 12\n",
    "sns.set_style('darkgrid')"
   ]
  },
  {
   "cell_type": "code",
   "execution_count": 3,
   "id": "94169b15",
   "metadata": {},
   "outputs": [],
   "source": [
    "# !unzip -p *.zip\n",
    "# !gzip -d *.gz"
   ]
  },
  {
   "cell_type": "code",
   "execution_count": 4,
   "id": "823c03d7",
   "metadata": {},
   "outputs": [],
   "source": [
    "data_dir = \"../data/\"\n",
    "\n",
    "def open_parq(file_name):\n",
    "    file_parq = file_name + \".parquet\"\n",
    "    file_csv = file_name + \".csv\"\n",
    "    if file_parq not in os.listdir(data_dir):\n",
    "        df = pd.read_csv(data_dir + file_csv)\n",
    "        df.to_parquet(data_dir + file_parq)\n",
    "    try:\n",
    "        df = pd.read_parquet(data_dir + file_parq)\n",
    "        print(f\"read parquet {data_dir + file_parq}\")\n",
    "    except Exception as err: \n",
    "        # some parquets are too big? not sure of problem\n",
    "        print(f\"!Problem {type(err)} \\n{err}\")\n",
    "        df = pd.read_csv(data_dir + file_csv)\n",
    "        print(f\"read csv {data_dir + file_csv}\")\n",
    "    return df"
   ]
  },
  {
   "cell_type": "code",
   "execution_count": 5,
   "id": "a59e81f4",
   "metadata": {},
   "outputs": [
    {
     "name": "stdout",
     "output_type": "stream",
     "text": [
      "read parquet ../data/target.parquet\n",
      "read parquet ../data/ticker.parquet\n",
      "read parquet ../data/ticker.spot.parquet\n",
      "read parquet ../data/trades.parquet\n",
      "read parquet ../data/trades.spot.parquet\n",
      "read parquet ../data/book.parquet\n",
      "read parquet ../data/book.spot.parquet\n"
     ]
    }
   ],
   "source": [
    "target = open_parq(\"target\")\n",
    "ticker = open_parq(\"ticker\")\n",
    "ticker_spot = open_parq(\"ticker.spot\")\n",
    "trades = open_parq(\"trades\")\n",
    "trades_spot = open_parq(\"trades.spot\")\n",
    "book = open_parq(\"book\")\n",
    "book_spot = open_parq(\"book.spot\")"
   ]
  },
  {
   "cell_type": "code",
   "execution_count": 6,
   "id": "06d27c1a",
   "metadata": {},
   "outputs": [
    {
     "name": "stdout",
     "output_type": "stream",
     "text": [
      "read parquet ../data/df.parquet\n",
      "df dataset with 0 features\n"
     ]
    }
   ],
   "source": [
    "def read_df(snap = 0, name = \"df\"):\n",
    "    file_parq = f\"{name}_{snap}.parquet\"\n",
    "    if snap == 0:\n",
    "        file_parq = f\"{name}.parquet\"\n",
    "    elif file_parq not in os.listdir(data_dir):\n",
    "        print(\"snap not found reading default\")\n",
    "        file_parq = f\"{name}.parquet\"\n",
    "    else:\n",
    "        print(f\"reading snap {snap}\")\n",
    "    \n",
    "    if file_parq not in os.listdir(data_dir):\n",
    "        df = target.copy()\n",
    "        # skip first n cause target starts before some of other data\n",
    "        skip_n = 3000\n",
    "        # drop first n cause not enough data for diff features\n",
    "        target_start = df[skip_n:].local_ts.min()\n",
    "        assert book.timestamp.min() < target_start\n",
    "        assert book_spot.timestamp.min() < target_start\n",
    "        assert trades.local_ts.min() < target_start\n",
    "        assert trades_spot.local_ts.min() < target_start\n",
    "        assert ticker.local_ts.min() < target_start\n",
    "        assert ticker_spot.local_ts.min() < target_start\n",
    "        df = df[skip_n:].reset_index(drop = True)\n",
    "        df = df.drop_duplicates(subset = [\"local_ts\"], keep = \"last\")\n",
    "        df.to_parquet(data_dir + file_parq)\n",
    "        print(f\"created parquet {data_dir + file_parq}\")\n",
    "    else:\n",
    "        df = pd.read_parquet(data_dir + file_parq)\n",
    "        print(f\"read parquet {data_dir + file_parq}\")\n",
    "    print(f\"df dataset with {df.shape[1] - 2} features\")\n",
    "    return df\n",
    "df = read_df()"
   ]
  },
  {
   "cell_type": "code",
   "execution_count": 7,
   "id": "5ba044d1",
   "metadata": {},
   "outputs": [],
   "source": [
    "def save_df(df, snap = 1, name = \"df\"):\n",
    "    file_parq = f\"{name}_{snap}.parquet\"\n",
    "    if snap == 0:\n",
    "        file_parq = f\"{name}.parquet\"\n",
    "    df.to_parquet(data_dir + file_parq)\n",
    "    print(f\"saved snap {data_dir + file_parq}\")"
   ]
  },
  {
   "cell_type": "code",
   "execution_count": 8,
   "id": "e7facf20",
   "metadata": {},
   "outputs": [],
   "source": [
    "def add_data(df, data, cols_to_keep, timestamp = \"remote_ts\", prefix = \"_\"):\n",
    "    data = data[cols_to_keep].copy().sort_values(by = [timestamp])\n",
    "    rename_mapper = {row: prefix + row for row in cols_to_keep}\n",
    "    rename_mapper[timestamp] = \"local_ts\"\n",
    "    data = data.rename(columns = rename_mapper)\n",
    "    return pd.merge_asof(df, data, on = \"local_ts\", direction = \"backward\")\n",
    "# probably better to use machine timestamp then local_timestamp\n",
    "# maybe problems with how we wont get it in time, but prob fine"
   ]
  },
  {
   "cell_type": "markdown",
   "id": "675ef561",
   "metadata": {},
   "source": [
    "(bid[0].volume - ask[0].volume)/(bid[0].volume + ask[0].volume)"
   ]
  },
  {
   "cell_type": "code",
   "execution_count": 9,
   "id": "685d122a",
   "metadata": {},
   "outputs": [],
   "source": [
    "timestamp_to_use = \"local_timestamp\" # \"timestamp\" # \"local_timestamp\" \n",
    "def orderbook_imb(df, book, method = \"diff\", level = 0):\n",
    "    am = f\"asks[{level}].amount\"\n",
    "    bd = f\"bids[{level}].amount\"\n",
    "    df_book = add_data(df, book, [timestamp_to_use, am, bd]\\\n",
    "         , timestamp = timestamp_to_use, prefix = \"book_\")\n",
    "    asks_amount = df_book[f\"book_{am}\"].to_numpy()\n",
    "    bids_amount = df_book[f\"book_{bd}\"].to_numpy()\n",
    "    if method == \"log\":\n",
    "        return np.log(bids_amount/asks_amount)\n",
    "    return (bids_amount - asks_amount) / (bids_amount + asks_amount)"
   ]
  },
  {
   "cell_type": "code",
   "execution_count": 10,
   "id": "91d85526",
   "metadata": {},
   "outputs": [
    {
     "name": "stdout",
     "output_type": "stream",
     "text": [
      "delay\n",
      "mean: 0.0884s\n",
      "max: 5.0143s\n",
      "min: 0.0017s\n"
     ]
    }
   ],
   "source": [
    "delay = (trades.local_ts - trades.remote_ts * 1e6) / 1e9\n",
    "print(f\"delay\\nmean: {round(delay.mean(), 4)}s\\nmax: {round(delay.max(), 4)}s\\nmin: {round(delay.min(), 4)}s\") \n",
    "# delay stats"
   ]
  },
  {
   "cell_type": "code",
   "execution_count": 11,
   "id": "90445343",
   "metadata": {},
   "outputs": [],
   "source": [
    "df[\"book_future_imabalance\"] = orderbook_imb(df, book)\n",
    "df[\"book_future_log_imbalance_custom\"] = orderbook_imb(df, book, method = \"log\")"
   ]
  },
  {
   "cell_type": "code",
   "execution_count": 12,
   "id": "5e598196",
   "metadata": {},
   "outputs": [],
   "source": [
    "df[\"book_spot_imabalance\"] = orderbook_imb(df, book_spot)\n",
    "df[\"book_spot_log_imbalance_custom\"] = orderbook_imb(df, book_spot, method = \"log\")"
   ]
  },
  {
   "cell_type": "code",
   "execution_count": 13,
   "id": "7e91eb6d",
   "metadata": {},
   "outputs": [],
   "source": [
    "def get_l_r(df, trades, time_window = 5000, time_shift = 0, output = False):\n",
    "    # default window 5s, no time shift\n",
    "    time_window *= 1000000\n",
    "    time_shift *= 1000000\n",
    "    \n",
    "    # get only from needed time window\n",
    "    trades_remote_ts = trades.remote_ts * 1000000 + time_shift\n",
    "    l = np.searchsorted(trades_remote_ts + time_window, df.local_ts)\n",
    "    l = np.maximum(l - 1, 0) # not including left \n",
    "    \n",
    "    # no future picking\n",
    "    trades_local_ts = trades.local_ts + time_shift\n",
    "    r = np.searchsorted(trades_local_ts, df.local_ts)\n",
    "    r = np.maximum(r - 1, 0) # including right\n",
    "    \n",
    "    mask = r - l <= 0\n",
    "    if output:\n",
    "        print(f\"target with no trades {mask.sum()} {mask.sum()/df.shape[0]}\")\n",
    "    l[mask] = np.maximum(r[mask] - 1, 0)\n",
    "    return l, r"
   ]
  },
  {
   "cell_type": "code",
   "execution_count": 14,
   "id": "e4c73f72",
   "metadata": {},
   "outputs": [],
   "source": [
    "def trades_period(df, trades, time_window = 2000):\n",
    "    l, r = get_l_r(df, trades, time_window = time_window, time_shift = 0)  \n",
    "    cumsum = np.cumsum(trades.amount).to_numpy()\n",
    "    return cumsum[r] - cumsum[l]\n",
    "\n",
    "def trades_imb(df, trades, lookback_window = 2000):\n",
    "    trades_buy = trades_period(df, trades[trades.side == \"B\"], time_window = lookback_window)\n",
    "    trades_sell = trades_period(df, trades[trades.side == \"S\"], time_window = lookback_window)\n",
    "    return trades_buy - trades_sell"
   ]
  },
  {
   "cell_type": "code",
   "execution_count": 15,
   "id": "00088d9c",
   "metadata": {},
   "outputs": [
    {
     "data": {
      "application/vnd.jupyter.widget-view+json": {
       "model_id": "fded530800a74340a02b4faf18fc9e2b",
       "version_major": 2,
       "version_minor": 0
      },
      "text/plain": [
       "HBox(children=(FloatProgress(value=0.0, description='trades_future', max=5.0, style=ProgressStyle(description_…"
      ]
     },
     "metadata": {},
     "output_type": "display_data"
    },
    {
     "name": "stdout",
     "output_type": "stream",
     "text": [
      "\n"
     ]
    },
    {
     "data": {
      "application/vnd.jupyter.widget-view+json": {
       "model_id": "a37f305560b342ee99c4cd680b475044",
       "version_major": 2,
       "version_minor": 0
      },
      "text/plain": [
       "HBox(children=(FloatProgress(value=0.0, description='trades_spot', max=5.0, style=ProgressStyle(description_wi…"
      ]
     },
     "metadata": {},
     "output_type": "display_data"
    },
    {
     "name": "stdout",
     "output_type": "stream",
     "text": [
      "\n"
     ]
    }
   ],
   "source": [
    "trades_types = {\"trades_future\": trades, \"trades_spot\": trades_spot}\n",
    "for tt_type in trades_types:\n",
    "    for window_ms in tqdm([100, 250, 500, 1000, 2000], desc = tt_type):\n",
    "        tt = trades_types[tt_type]\n",
    "        df[f\"{tt_type}_imb_{window_ms}ms\"] = trades_imb(df, tt, lookback_window = window_ms)"
   ]
  },
  {
   "cell_type": "code",
   "execution_count": 16,
   "id": "a9691448",
   "metadata": {},
   "outputs": [
    {
     "data": {
      "text/plain": [
       "Text(0.5, 1.0, 'Power of leverage 1000ms')"
      ]
     },
     "execution_count": 16,
     "metadata": {},
     "output_type": "execute_result"
    },
    {
     "data": {
      "image/png": "[encoded data removed]",
      "text/plain": [
       "<Figure size 864x432 with 1 Axes>"
      ]
     },
     "metadata": {
      "image/png": {
       "height": 388,
       "width": 724
      }
     },
     "output_type": "display_data"
    }
   ],
   "source": [
    "plt.plot(df.local_ts, df.trades_future_imb_1000ms, label = \"futures\")\n",
    "plt.plot(df.local_ts, df.trades_spot_imb_1000ms, label = \"spot\")\n",
    "plt.legend(loc = 'upper right')\n",
    "plt.title(\"Power of leverage 1000ms\")"
   ]
  },
  {
   "cell_type": "code",
   "execution_count": 17,
   "id": "6b280cc5",
   "metadata": {},
   "outputs": [],
   "source": [
    "def trades_price_avg_lookback(df, trades, time_horizon = 2000, time_window = 50):\n",
    "    l, r = get_l_r(df, trades, time_window = time_window, time_shift = time_horizon)\n",
    "    \n",
    "    cumsum = np.cumsum(trades.price).to_numpy()\n",
    "    nums = np.arange(trades.shape[0])\n",
    "\n",
    "    price_sum = cumsum[r] - cumsum[l]\n",
    "    price_num = nums[r] - nums[l]\n",
    "    return price_sum / price_num\n",
    "\n",
    "def trades_past_returns(df, trades, time_horizon = 2000, time_window = 50):\n",
    "    price_now = trades_price_avg_lookback(df, trades, time_horizon = 0, time_window = time_window)\n",
    "    price_past = trades_price_avg_lookback(df, trades, time_horizon = time_horizon, time_window = time_window)\n",
    "    return (price_now / price_past - 1) * 1000"
   ]
  },
  {
   "cell_type": "code",
   "execution_count": 18,
   "id": "7311ca72",
   "metadata": {},
   "outputs": [
    {
     "data": {
      "application/vnd.jupyter.widget-view+json": {
       "model_id": "2cba8319650847cd8fa99c930d216aa8",
       "version_major": 2,
       "version_minor": 0
      },
      "text/plain": [
       "HBox(children=(FloatProgress(value=0.0, description='trades_future', max=5.0, style=ProgressStyle(description_…"
      ]
     },
     "metadata": {},
     "output_type": "display_data"
    },
    {
     "name": "stdout",
     "output_type": "stream",
     "text": [
      "\n"
     ]
    },
    {
     "data": {
      "application/vnd.jupyter.widget-view+json": {
       "model_id": "8d7340ddd3074e91bf35e1b3d5625ac1",
       "version_major": 2,
       "version_minor": 0
      },
      "text/plain": [
       "HBox(children=(FloatProgress(value=0.0, description='trades_spot', max=5.0, style=ProgressStyle(description_wi…"
      ]
     },
     "metadata": {},
     "output_type": "display_data"
    },
    {
     "name": "stdout",
     "output_type": "stream",
     "text": [
      "\n"
     ]
    }
   ],
   "source": [
    "# ticker_types = {\"ticker_future\": ticker, \"ticker_spot\": ticker_spot} \n",
    "# used trades as in paper\n",
    "for tt_type in trades_types:\n",
    "    for window_ms in tqdm([100, 250, 500, 1000, 2000], desc = tt_type):\n",
    "        tt = trades_types[tt_type]\n",
    "        df[f\"{tt_type}_past_returns_{window_ms}ms\"] = trades_past_returns(df, tt, time_horizon = window_ms)"
   ]
  },
  {
   "cell_type": "code",
   "execution_count": 19,
   "id": "8d2bf526",
   "metadata": {},
   "outputs": [],
   "source": [
    "def price_sets(trades, time_sets, lookback_window = 50 * 1e6):\n",
    "    trades_remote_ts = trades.remote_ts * 1e6 # from milisec\n",
    "\n",
    "    l = np.searchsorted(trades_remote_ts + lookback_window, time_sets)\n",
    "    l = np.maximum(l - 1, 0) # not including left \n",
    "    r = np.searchsorted(trades_remote_ts, time_sets)\n",
    "    \n",
    "    cumsum = np.cumsum(trades.price).to_numpy()\n",
    "    nums = np.arange(trades.shape[0])\n",
    "\n",
    "    price_sum = cumsum[r] - cumsum[l]\n",
    "    price_num = nums[r] - nums[l]\n",
    "    return price_sum / price_num\n",
    "\n",
    "def rolling_mean(df, time_sets, rolling_price, time_horizon = 5000):\n",
    "    time_horizon *= 1e6 # from milisec\n",
    "\n",
    "    l = np.searchsorted(time_sets + time_horizon, df.local_ts)\n",
    "    l = np.maximum(l - 1, 0) # not including left \n",
    "    r = np.searchsorted(time_sets, df.local_ts)\n",
    "    \n",
    "    cumsum = np.cumsum(rolling_price)\n",
    "    nums = np.arange(rolling_price.shape[0])\n",
    "\n",
    "    price_sum = cumsum[r] - cumsum[l]\n",
    "    price_num = nums[r] - nums[l]\n",
    "    return price_sum / price_num"
   ]
  },
  {
   "cell_type": "code",
   "execution_count": 20,
   "id": "5f084fdf",
   "metadata": {},
   "outputs": [],
   "source": [
    "def d (price_1, price_2):\n",
    "    return (price_1 / price_2 - 1) * 10000\n",
    "def DIV(df, trades_market_1, trades_market_2, time_horizon = 5000, lookback_window = 50):\n",
    "    price_now_1 = trades_price_avg_lookback(df, trades_market_1\\\n",
    "                                            , time_horizon = 0, time_window = lookback_window)\n",
    "    price_now_2 = trades_price_avg_lookback(df, trades_market_2\\\n",
    "                                            , time_horizon = 0, time_window = lookback_window)\n",
    "    \n",
    "    d_now = d(price_now_1, price_now_2)\n",
    "    \n",
    "    # price_rolling_1 = trades_price_avg_lookback(df, trades_market_1\\\n",
    "    #                                        , time_horizon = 0, lookback_window = time_horizon)\n",
    "    # price_rolling_2 = trades_price_avg_lookback(df, trades_market_2\\\n",
    "    #                                        , time_horizon = 0, lookback_window = time_horizon)\n",
    "    \n",
    "    # print(\"prices_now_done\")\n",
    "    \n",
    "    trades_market_1 = trades\n",
    "    trades_market_2 = trades_spot\n",
    "    start = min(trades_market_1.remote_ts.min(), trades_market_2.remote_ts.min()) * 1e6\n",
    "    end   = max(trades_market_1.remote_ts.max(), trades_market_2.remote_ts.max()) * 1e6\n",
    "    lookback_window *= 1e6\n",
    "    time_sets = start + (np.arange(np.floor((end - start) / lookback_window)) + 1) * lookback_window\n",
    "    \n",
    "    pair = get_l_r(df, trades, time_window = lookback_window, time_shift = 0)\n",
    "    trades_sets_1 = price_sets(trades_market_1, time_sets, lookback_window = lookback_window)\n",
    "    trades_sets_2 = price_sets(trades_market_2, time_sets, lookback_window = lookback_window)\n",
    "    \n",
    "    # print(\"trades_sets_done\")\n",
    "    \n",
    "    rolling_price = d(trades_sets_1, trades_sets_2)\n",
    "    d_rolling = rolling_mean(df, time_sets, rolling_price, time_horizon = time_horizon)\n",
    "    \n",
    "    return d_now - d_rolling"
   ]
  },
  {
   "cell_type": "code",
   "execution_count": 21,
   "id": "7fdc28c9",
   "metadata": {},
   "outputs": [
    {
     "data": {
      "application/vnd.jupyter.widget-view+json": {
       "model_id": "70411d1b8da7468e87aae31b848c3c8e",
       "version_major": 2,
       "version_minor": 0
      },
      "text/plain": [
       "HBox(children=(FloatProgress(value=0.0, max=4.0), HTML(value='')))"
      ]
     },
     "metadata": {},
     "output_type": "display_data"
    },
    {
     "name": "stdout",
     "output_type": "stream",
     "text": [
      "\n"
     ]
    }
   ],
   "source": [
    "for window_s in tqdm([5, 10, 20, 40]):\n",
    "    window_ms = window_s * 1e3\n",
    "    df[f\"trades_div_{round(window_ms)}ms\"] = DIV(df, trades, trades_spot, time_horizon = window_ms)"
   ]
  },
  {
   "cell_type": "code",
   "execution_count": 22,
   "id": "45749276",
   "metadata": {},
   "outputs": [
    {
     "data": {
      "text/html": [
       "<div>\n",
       "<style scoped>\n",
       "    .dataframe tbody tr th:only-of-type {\n",
       "        vertical-align: middle;\n",
       "    }\n",
       "\n",
       "    .dataframe tbody tr th {\n",
       "        vertical-align: top;\n",
       "    }\n",
       "\n",
       "    .dataframe thead th {\n",
       "        text-align: right;\n",
       "    }\n",
       "</style>\n",
       "<table border=\"1\" class=\"dataframe\">\n",
       "  <thead>\n",
       "    <tr style=\"text-align: right;\">\n",
       "      <th></th>\n",
       "      <th>local_ts</th>\n",
       "      <th>target</th>\n",
       "      <th>book_future_imabalance</th>\n",
       "      <th>book_future_log_imbalance_custom</th>\n",
       "      <th>book_spot_imabalance</th>\n",
       "      <th>book_spot_log_imbalance_custom</th>\n",
       "      <th>trades_future_imb_100ms</th>\n",
       "      <th>trades_future_imb_250ms</th>\n",
       "      <th>trades_future_imb_500ms</th>\n",
       "      <th>trades_future_imb_1000ms</th>\n",
       "      <th>trades_future_imb_2000ms</th>\n",
       "      <th>trades_spot_imb_100ms</th>\n",
       "      <th>trades_spot_imb_250ms</th>\n",
       "      <th>trades_spot_imb_500ms</th>\n",
       "      <th>trades_spot_imb_1000ms</th>\n",
       "      <th>trades_spot_imb_2000ms</th>\n",
       "      <th>trades_future_past_returns_100ms</th>\n",
       "      <th>trades_future_past_returns_250ms</th>\n",
       "      <th>trades_future_past_returns_500ms</th>\n",
       "      <th>trades_future_past_returns_1000ms</th>\n",
       "      <th>trades_future_past_returns_2000ms</th>\n",
       "      <th>trades_spot_past_returns_100ms</th>\n",
       "      <th>trades_spot_past_returns_250ms</th>\n",
       "      <th>trades_spot_past_returns_500ms</th>\n",
       "      <th>trades_spot_past_returns_1000ms</th>\n",
       "      <th>trades_spot_past_returns_2000ms</th>\n",
       "      <th>trades_div_5000ms</th>\n",
       "      <th>trades_div_10000ms</th>\n",
       "      <th>trades_div_20000ms</th>\n",
       "      <th>trades_div_40000ms</th>\n",
       "    </tr>\n",
       "  </thead>\n",
       "  <tbody>\n",
       "    <tr>\n",
       "      <th>0</th>\n",
       "      <td>1679443221766332928</td>\n",
       "      <td>0</td>\n",
       "      <td>0.660298</td>\n",
       "      <td>1.586684</td>\n",
       "      <td>-0.209442</td>\n",
       "      <td>-0.425174</td>\n",
       "      <td>-4.85</td>\n",
       "      <td>-4.85</td>\n",
       "      <td>-3.662</td>\n",
       "      <td>-10.763</td>\n",
       "      <td>-10.747</td>\n",
       "      <td>-0.60648</td>\n",
       "      <td>-0.79633</td>\n",
       "      <td>-0.41088</td>\n",
       "      <td>-0.25742</td>\n",
       "      <td>1.08855</td>\n",
       "      <td>-0.000382</td>\n",
       "      <td>-0.000382</td>\n",
       "      <td>-0.001806</td>\n",
       "      <td>-0.025311</td>\n",
       "      <td>-0.025311</td>\n",
       "      <td>-0.034308</td>\n",
       "      <td>-0.033952</td>\n",
       "      <td>-0.029682</td>\n",
       "      <td>-0.038223</td>\n",
       "      <td>0.010179</td>\n",
       "      <td>0.102784</td>\n",
       "      <td>-0.068538</td>\n",
       "      <td>-0.44799</td>\n",
       "      <td>-0.506559</td>\n",
       "    </tr>\n",
       "    <tr>\n",
       "      <th>1</th>\n",
       "      <td>1679443221766335488</td>\n",
       "      <td>0</td>\n",
       "      <td>0.660298</td>\n",
       "      <td>1.586684</td>\n",
       "      <td>-0.209442</td>\n",
       "      <td>-0.425174</td>\n",
       "      <td>-4.85</td>\n",
       "      <td>-4.85</td>\n",
       "      <td>-3.662</td>\n",
       "      <td>-10.763</td>\n",
       "      <td>-10.747</td>\n",
       "      <td>-0.60648</td>\n",
       "      <td>-0.79633</td>\n",
       "      <td>-0.41088</td>\n",
       "      <td>-0.25742</td>\n",
       "      <td>1.08855</td>\n",
       "      <td>-0.000382</td>\n",
       "      <td>-0.000382</td>\n",
       "      <td>-0.001806</td>\n",
       "      <td>-0.025311</td>\n",
       "      <td>-0.025311</td>\n",
       "      <td>-0.034308</td>\n",
       "      <td>-0.033952</td>\n",
       "      <td>-0.029682</td>\n",
       "      <td>-0.038223</td>\n",
       "      <td>0.010179</td>\n",
       "      <td>0.102784</td>\n",
       "      <td>-0.068538</td>\n",
       "      <td>-0.44799</td>\n",
       "      <td>-0.506559</td>\n",
       "    </tr>\n",
       "    <tr>\n",
       "      <th>2</th>\n",
       "      <td>1679443221767213056</td>\n",
       "      <td>0</td>\n",
       "      <td>0.660298</td>\n",
       "      <td>1.586684</td>\n",
       "      <td>-0.209442</td>\n",
       "      <td>-0.425174</td>\n",
       "      <td>-4.85</td>\n",
       "      <td>-4.85</td>\n",
       "      <td>-3.662</td>\n",
       "      <td>-10.763</td>\n",
       "      <td>-10.747</td>\n",
       "      <td>-0.60648</td>\n",
       "      <td>-0.79633</td>\n",
       "      <td>-0.41088</td>\n",
       "      <td>-0.25742</td>\n",
       "      <td>1.08855</td>\n",
       "      <td>-0.000382</td>\n",
       "      <td>-0.000382</td>\n",
       "      <td>-0.001173</td>\n",
       "      <td>-0.025311</td>\n",
       "      <td>-0.025311</td>\n",
       "      <td>-0.034308</td>\n",
       "      <td>-0.033952</td>\n",
       "      <td>-0.029682</td>\n",
       "      <td>-0.038223</td>\n",
       "      <td>0.010179</td>\n",
       "      <td>0.102784</td>\n",
       "      <td>-0.068538</td>\n",
       "      <td>-0.44799</td>\n",
       "      <td>-0.506559</td>\n",
       "    </tr>\n",
       "    <tr>\n",
       "      <th>3</th>\n",
       "      <td>1679443221769038336</td>\n",
       "      <td>0</td>\n",
       "      <td>-0.950136</td>\n",
       "      <td>-3.666350</td>\n",
       "      <td>-0.209442</td>\n",
       "      <td>-0.425174</td>\n",
       "      <td>-4.85</td>\n",
       "      <td>-4.85</td>\n",
       "      <td>-3.662</td>\n",
       "      <td>-10.763</td>\n",
       "      <td>-10.747</td>\n",
       "      <td>-0.60648</td>\n",
       "      <td>-0.79633</td>\n",
       "      <td>-0.41088</td>\n",
       "      <td>-0.25699</td>\n",
       "      <td>1.08855</td>\n",
       "      <td>-0.000382</td>\n",
       "      <td>-0.000382</td>\n",
       "      <td>-0.001173</td>\n",
       "      <td>-0.025311</td>\n",
       "      <td>-0.025311</td>\n",
       "      <td>-0.034308</td>\n",
       "      <td>-0.033952</td>\n",
       "      <td>-0.029682</td>\n",
       "      <td>-0.038223</td>\n",
       "      <td>0.082435</td>\n",
       "      <td>0.102784</td>\n",
       "      <td>-0.068538</td>\n",
       "      <td>-0.44799</td>\n",
       "      <td>-0.506559</td>\n",
       "    </tr>\n",
       "    <tr>\n",
       "      <th>4</th>\n",
       "      <td>1679443221769302784</td>\n",
       "      <td>0</td>\n",
       "      <td>-0.950136</td>\n",
       "      <td>-3.666350</td>\n",
       "      <td>-0.209442</td>\n",
       "      <td>-0.425174</td>\n",
       "      <td>-4.85</td>\n",
       "      <td>-4.85</td>\n",
       "      <td>-3.662</td>\n",
       "      <td>-10.763</td>\n",
       "      <td>-10.747</td>\n",
       "      <td>-0.60648</td>\n",
       "      <td>-0.79633</td>\n",
       "      <td>-0.41088</td>\n",
       "      <td>-0.25699</td>\n",
       "      <td>1.08855</td>\n",
       "      <td>-0.000382</td>\n",
       "      <td>-0.000382</td>\n",
       "      <td>-0.001173</td>\n",
       "      <td>-0.025311</td>\n",
       "      <td>-0.025311</td>\n",
       "      <td>-0.034308</td>\n",
       "      <td>-0.033952</td>\n",
       "      <td>-0.029682</td>\n",
       "      <td>-0.038223</td>\n",
       "      <td>0.082435</td>\n",
       "      <td>0.102784</td>\n",
       "      <td>-0.068538</td>\n",
       "      <td>-0.44799</td>\n",
       "      <td>-0.506559</td>\n",
       "    </tr>\n",
       "  </tbody>\n",
       "</table>\n",
       "</div>"
      ],
      "text/plain": [
       "              local_ts  target  book_future_imabalance  \\\n",
       "0  1679443221766332928       0                0.660298   \n",
       "1  1679443221766335488       0                0.660298   \n",
       "2  1679443221767213056       0                0.660298   \n",
       "3  1679443221769038336       0               -0.950136   \n",
       "4  1679443221769302784       0               -0.950136   \n",
       "\n",
       "   book_future_log_imbalance_custom  book_spot_imabalance  \\\n",
       "0                          1.586684             -0.209442   \n",
       "1                          1.586684             -0.209442   \n",
       "2                          1.586684             -0.209442   \n",
       "3                         -3.666350             -0.209442   \n",
       "4                         -3.666350             -0.209442   \n",
       "\n",
       "   book_spot_log_imbalance_custom  trades_future_imb_100ms  \\\n",
       "0                       -0.425174                    -4.85   \n",
       "1                       -0.425174                    -4.85   \n",
       "2                       -0.425174                    -4.85   \n",
       "3                       -0.425174                    -4.85   \n",
       "4                       -0.425174                    -4.85   \n",
       "\n",
       "   trades_future_imb_250ms  trades_future_imb_500ms  trades_future_imb_1000ms  \\\n",
       "0                    -4.85                   -3.662                   -10.763   \n",
       "1                    -4.85                   -3.662                   -10.763   \n",
       "2                    -4.85                   -3.662                   -10.763   \n",
       "3                    -4.85                   -3.662                   -10.763   \n",
       "4                    -4.85                   -3.662                   -10.763   \n",
       "\n",
       "   trades_future_imb_2000ms  trades_spot_imb_100ms  trades_spot_imb_250ms  \\\n",
       "0                   -10.747               -0.60648               -0.79633   \n",
       "1                   -10.747               -0.60648               -0.79633   \n",
       "2                   -10.747               -0.60648               -0.79633   \n",
       "3                   -10.747               -0.60648               -0.79633   \n",
       "4                   -10.747               -0.60648               -0.79633   \n",
       "\n",
       "   trades_spot_imb_500ms  trades_spot_imb_1000ms  trades_spot_imb_2000ms  \\\n",
       "0               -0.41088                -0.25742                 1.08855   \n",
       "1               -0.41088                -0.25742                 1.08855   \n",
       "2               -0.41088                -0.25742                 1.08855   \n",
       "3               -0.41088                -0.25699                 1.08855   \n",
       "4               -0.41088                -0.25699                 1.08855   \n",
       "\n",
       "   trades_future_past_returns_100ms  trades_future_past_returns_250ms  \\\n",
       "0                         -0.000382                         -0.000382   \n",
       "1                         -0.000382                         -0.000382   \n",
       "2                         -0.000382                         -0.000382   \n",
       "3                         -0.000382                         -0.000382   \n",
       "4                         -0.000382                         -0.000382   \n",
       "\n",
       "   trades_future_past_returns_500ms  trades_future_past_returns_1000ms  \\\n",
       "0                         -0.001806                          -0.025311   \n",
       "1                         -0.001806                          -0.025311   \n",
       "2                         -0.001173                          -0.025311   \n",
       "3                         -0.001173                          -0.025311   \n",
       "4                         -0.001173                          -0.025311   \n",
       "\n",
       "   trades_future_past_returns_2000ms  trades_spot_past_returns_100ms  \\\n",
       "0                          -0.025311                       -0.034308   \n",
       "1                          -0.025311                       -0.034308   \n",
       "2                          -0.025311                       -0.034308   \n",
       "3                          -0.025311                       -0.034308   \n",
       "4                          -0.025311                       -0.034308   \n",
       "\n",
       "   trades_spot_past_returns_250ms  trades_spot_past_returns_500ms  \\\n",
       "0                       -0.033952                       -0.029682   \n",
       "1                       -0.033952                       -0.029682   \n",
       "2                       -0.033952                       -0.029682   \n",
       "3                       -0.033952                       -0.029682   \n",
       "4                       -0.033952                       -0.029682   \n",
       "\n",
       "   trades_spot_past_returns_1000ms  trades_spot_past_returns_2000ms  \\\n",
       "0                        -0.038223                         0.010179   \n",
       "1                        -0.038223                         0.010179   \n",
       "2                        -0.038223                         0.010179   \n",
       "3                        -0.038223                         0.082435   \n",
       "4                        -0.038223                         0.082435   \n",
       "\n",
       "   trades_div_5000ms  trades_div_10000ms  trades_div_20000ms  \\\n",
       "0           0.102784           -0.068538            -0.44799   \n",
       "1           0.102784           -0.068538            -0.44799   \n",
       "2           0.102784           -0.068538            -0.44799   \n",
       "3           0.102784           -0.068538            -0.44799   \n",
       "4           0.102784           -0.068538            -0.44799   \n",
       "\n",
       "   trades_div_40000ms  \n",
       "0           -0.506559  \n",
       "1           -0.506559  \n",
       "2           -0.506559  \n",
       "3           -0.506559  \n",
       "4           -0.506559  "
      ]
     },
     "execution_count": 22,
     "metadata": {},
     "output_type": "execute_result"
    }
   ],
   "source": [
    "df.head()"
   ]
  },
  {
   "cell_type": "code",
   "execution_count": 23,
   "id": "b9bcc215",
   "metadata": {},
   "outputs": [
    {
     "data": {
      "text/plain": [
       "'\\n# решение если хотим по времени. Можно сделать эффективнее, но мое железо потянет только так\\ndef get_metrics_price(df, trades):\\n    l, r = get_l_r(df, trades) \\n    metrics = []\\n    # надо пройтись по элементам, чтобы найти max/min никак быстрее не сделать(((\\n    for i in tqdm(range(df.shape[0])):\\n        price_range = trades.price[l[i]:r[i]].to_numpy()\\n        mmax = np.max(price_range)\\n        mmin = np.min(price_range)\\n        clos = price_range[-1]\\n        metrics.append((mmax, mmin, clos))\\n    return np.array(metrics)\\n# но если обращаться с каждым таргетом, как со своим блоком - то больно \\n# (хотя было бы железо, делал бы так мб)\\n'"
      ]
     },
     "execution_count": 23,
     "metadata": {},
     "output_type": "execute_result"
    }
   ],
   "source": [
    "\"\"\"\n",
    "# решение если хотим по времени. Можно сделать эффективнее, но мое железо потянет только так\n",
    "def get_metrics_price(df, trades):\n",
    "    l, r = get_l_r(df, trades) \n",
    "    metrics = []\n",
    "    # надо пройтись по элементам, чтобы найти max/min никак быстрее не сделать(((\n",
    "    for i in tqdm(range(df.shape[0])):\n",
    "        price_range = trades.price[l[i]:r[i]].to_numpy()\n",
    "        mmax = np.max(price_range)\n",
    "        mmin = np.min(price_range)\n",
    "        clos = price_range[-1]\n",
    "        metrics.append((mmax, mmin, clos))\n",
    "    return np.array(metrics)\n",
    "# но если обращаться с каждым таргетом, как со своим блоком - то больно \n",
    "# (хотя было бы железо, делал бы так мб)\n",
    "\"\"\""
   ]
  },
  {
   "cell_type": "code",
   "execution_count": 24,
   "id": "dab254c7",
   "metadata": {},
   "outputs": [],
   "source": [
    "def block_indexes(tr, block_size = 10):\n",
    "    tr = tr[:-(tr.shape[0] % block_size)]\n",
    "    tr_blocked = [tr[i::block_size][:, np.newaxis] for i in range(block_size)]\n",
    "    return np.concatenate(tr_blocked, axis = 1)"
   ]
  },
  {
   "cell_type": "code",
   "execution_count": 25,
   "id": "180db6eb",
   "metadata": {},
   "outputs": [],
   "source": [
    "def get_l_r_blocks(df, trades, trds_blocks, time_window = 500, time_shift = 0):\n",
    "    # default window 5s, no time shift\n",
    "    time_window *= 1000000 # 1e6\n",
    "    \n",
    "    # get only from needed time window\n",
    "    trades_remote_ts = trades.remote_ts.to_numpy()[trds_blocks][:, 0] * 1000000 + time_shift\n",
    "    l = np.searchsorted(trades_remote_ts + time_window, df.local_ts)\n",
    "    \n",
    "    # no future picking\n",
    "    trades_local_ts = trades.local_ts.to_numpy()[trds_blocks][:, -1] + time_shift\n",
    "    r = np.searchsorted(trades_local_ts, df.local_ts)\n",
    "    r = np.maximum(r - 1, 0)\n",
    "    \n",
    "    mask = r - l <= 0\n",
    "    if mask.sum():\n",
    "        print(f\"l and r within the same block {mask.sum()} \"\n",
    "              f\"{round(mask.sum()/df.shape[0], 2)}\") # cause to small time widndow for block size\n",
    "        l[mask] = np.maximum(r[mask] - 1, 0)\n",
    "    return l, r"
   ]
  },
  {
   "cell_type": "code",
   "execution_count": 26,
   "id": "99facccb",
   "metadata": {},
   "outputs": [],
   "source": [
    "def get_blocks_pair(df, trades, block_size = 10):\n",
    "    trds_blocks = block_indexes(trades.index.to_numpy(), block_size = block_size)\n",
    "    trds_blocks = np.concatenate([np.zeros((1, block_size)).astype(trds_blocks.dtype), trds_blocks], axis = 0)\n",
    "    pair_blocks = get_l_r_blocks(df, trades, trds_blocks)\n",
    "    return trds_blocks, pair_blocks\n",
    "def get_pair_last(pair):\n",
    "    return (np.maximum(pair[1] - 1, 0), pair[1]) # последний блок только ... "
   ]
  },
  {
   "cell_type": "code",
   "execution_count": 27,
   "id": "6fcb38fa",
   "metadata": {},
   "outputs": [],
   "source": [
    "# to potimize can hash this function / or just pass n_prev blocks (but better hash if we have memory to spare)\n",
    "def prev_n_blocks_close(trades, trds_blocks, n_prev, output = False):\n",
    "    prev_blocks_all = []\n",
    "    \n",
    "    rr = range(n_prev)\n",
    "    if output:\n",
    "        rr = tqdm(rr, desc = \"n_prev\")\n",
    "    for i in rr:\n",
    "        prev_blocks = trds_blocks - i\n",
    "        if np.any(prev_blocks) < 0:\n",
    "            raise ValueError(\"\")  \n",
    "        price_blocks_prev = trades.price.to_numpy()[prev_blocks[:, -1]]\n",
    "        block_last_prev = price_blocks_prev[:, np.newaxis]\n",
    "        \n",
    "        prev_blocks_all.append(block_last_prev)\n",
    "        \n",
    "    return np.concatenate(prev_blocks_all, axis = 1)"
   ]
  },
  {
   "cell_type": "code",
   "execution_count": 28,
   "id": "b6095aba",
   "metadata": {},
   "outputs": [],
   "source": [
    "def avg_metric(metric, pair_blocks):\n",
    "    l, r = pair_blocks\n",
    "    cumsum = np.cumsum(metric, axis = 0)\n",
    "    nums = np.arange(trds_blocks.shape[0])\n",
    "    \n",
    "    metrics_sum = cumsum[r] - cumsum[l]\n",
    "    metrics_num = nums[r] - nums[l]\n",
    "    \n",
    "    if metrics_sum.ndim >= 2:\n",
    "        metrics_num = metrics_num.reshape(-1, 1)\n",
    "    \n",
    "    return metrics_sum / metrics_num\n",
    "def lin_weighted_metric(metric, pair_blocks):\n",
    "    weights = np.linspace(0, 1, num = metric.shape[1])\n",
    "    weighted_metric = (metric * weights).sum(axis = 1) / weights.sum()\n",
    "    return avg_metric(weighted_metric, pair_blocks)"
   ]
  },
  {
   "cell_type": "code",
   "execution_count": 29,
   "id": "3823e6bf",
   "metadata": {},
   "outputs": [],
   "source": [
    "def remove_zero_div(metric):\n",
    "    param = metric.copy()\n",
    "    mask = param == 0\n",
    "    param[mask] = param[~mask].min() * 1e-9\n",
    "    return param\n",
    "\n",
    "def rolling_window(FF, n_prev, f = lambda x: x.sum()):\n",
    "    FF_ = [FF[0] for i in range(n_prev - 1)]\n",
    "    FF_ = np.concatenate([FF_, FF])\n",
    "    AFF = pd.Series(FF_).rolling(n_prev)\n",
    "    return f(AFF).to_numpy()[(n_prev - 1):]\n",
    "def average_row(FF, n_prev, token = \"\"):\n",
    "    AFF = [FF[0]]\n",
    "    rr = range(1, FF.shape[0])\n",
    "    if token:\n",
    "        rr = tqdm(rr, desc = \"averaging \" + token)\n",
    "    for i in rr:\n",
    "        AFF.append((np.sum(AFF[-(n_prev - 1):]) + FF[i]) / n_prev)\n",
    "    return np.array(AFF)"
   ]
  },
  {
   "cell_type": "code",
   "execution_count": 30,
   "id": "d3e32f7a",
   "metadata": {},
   "outputs": [
    {
     "name": "stdout",
     "output_type": "stream",
     "text": [
      "l and r within the same block 12606975 0.34\n"
     ]
    }
   ],
   "source": [
    "trds_blocks, pair_blocks = get_blocks_pair(df, trades, 10)\n",
    "pair_blocks_last = get_pair_last(pair_blocks)"
   ]
  },
  {
   "cell_type": "code",
   "execution_count": 31,
   "id": "0f2faebc",
   "metadata": {},
   "outputs": [],
   "source": [
    "def show_bins(data, qs = (0, 1), outliers = False, bins = 100):\n",
    "    # data is pandas Series\n",
    "    if not outliers and qs == (0, 1):\n",
    "        qs = (0.01, 0.99)\n",
    "    low_q, high_q = qs \n",
    "    high = data.quantile(high_q)\n",
    "    low = data.quantile(low_q)\n",
    "    plt.hist(data[(data <= high) & (data >= low)], bins = bins)"
   ]
  },
  {
   "cell_type": "markdown",
   "id": "905148ee",
   "metadata": {},
   "source": [
    "#### features def and calc:"
   ]
  },
  {
   "cell_type": "code",
   "execution_count": 32,
   "id": "478deff1",
   "metadata": {},
   "outputs": [],
   "source": [
    "def get_metrics_price(trades, trds_blocks, pair_blocks):\n",
    "    price_blocks = trades.price.to_numpy()[trds_blocks]\n",
    "    \n",
    "    block_max = np.max(price_blocks, axis = 1)[:, np.newaxis]\n",
    "    block_min = np.min(price_blocks, axis = 1)[:, np.newaxis]\n",
    "    block_last = price_blocks[:, -1][:, np.newaxis]\n",
    "    \n",
    "    metric_price = np.concatenate([block_max, block_min, block_last], axis = 1)\n",
    "    \n",
    "    return metric_price\n",
    "def get_metrics_volume(trades, trds_blocks, pair_blocks):\n",
    "    volume_blocks = trades.amount.to_numpy()[trds_blocks]\n",
    "    \n",
    "    metrics_volume = np.sum(volume_blocks, axis = 1)  \n",
    "    \n",
    "    return metrics_volume"
   ]
  },
  {
   "cell_type": "code",
   "execution_count": 33,
   "id": "fb64b243",
   "metadata": {},
   "outputs": [],
   "source": [
    "def get_ADL(trades, trds_blocks, pair_blocks):\n",
    "    metrics_price = get_metrics_price(trades, trds_blocks, pair_blocks)\n",
    "    metrics_volume = get_metrics_volume(trades, trds_blocks, pair_blocks)\n",
    "    \n",
    "    H = metrics_price[:, 0]\n",
    "    L = metrics_price[:, 1]\n",
    "    CL = metrics_price[:, 2]\n",
    "    \n",
    "    MoneyFlowMultiplier = ((CL - L) - (H - CL)) / remove_zero_div(H - L)\n",
    "    \n",
    "    BlockPeriodVolume = metrics_volume\n",
    "    MoneyFlowVolume = MoneyFlowMultiplier * BlockPeriodVolume\n",
    "    ADL = rolling_window(MoneyFlowVolume, 1)\n",
    "    return avg_metric(ADL, pair_blocks)"
   ]
  },
  {
   "cell_type": "code",
   "execution_count": 34,
   "id": "647d07e4",
   "metadata": {},
   "outputs": [],
   "source": [
    "df[\"ADL_timed\"] = get_ADL(trades, trds_blocks, pair_blocks)\n",
    "df[\"ADL_last\"] = get_ADL(trades, trds_blocks, pair_blocks_last)"
   ]
  },
  {
   "cell_type": "code",
   "execution_count": 35,
   "id": "364159a7",
   "metadata": {},
   "outputs": [
    {
     "data": {
      "image/png": "[encoded data removed]",
      "text/plain": [
       "<Figure size 864x432 with 1 Axes>"
      ]
     },
     "metadata": {
      "image/png": {
       "height": 360,
       "width": 736
      }
     },
     "output_type": "display_data"
    }
   ],
   "source": [
    "show_bins(df.ADL_last)"
   ]
  },
  {
   "cell_type": "code",
   "execution_count": 36,
   "id": "c7330110",
   "metadata": {},
   "outputs": [],
   "source": [
    "def prev(FF):\n",
    "    return np.concatenate([[FF[0]], FF[:-1]])\n",
    "def smoothing_Wilder(FF, n_prev):\n",
    "    FF_sum = rolling_window(FF, n_prev)\n",
    "    FF_prev = prev(FF_sum)\n",
    "    return FF_prev - FF_prev / n_prev + FF"
   ]
  },
  {
   "cell_type": "code",
   "execution_count": 37,
   "id": "fcd1ad52",
   "metadata": {},
   "outputs": [],
   "source": [
    "def get_DI(DM, ATR, mask, n_prev):\n",
    "    DM_H = np.zeros(mask.shape[0])\n",
    "    DM_H[mask] = DM[mask]\n",
    "    \n",
    "    DM_smoothed = smoothing_Wilder(DM_H, n_prev)\n",
    "    DM_smoothed[~mask] = 0\n",
    "    \n",
    "    return DM_smoothed / remove_zero_div(ATR) * 100\n",
    "\n",
    "def get_ADX(trades, trds_blocks, pair_blocks, n_prev = 14, output = False):\n",
    "    price_blocks = trades.price.to_numpy()[trds_blocks]\n",
    "    \n",
    "    H = np.max(price_blocks, axis = 1)\n",
    "    L = np.min(price_blocks, axis = 1)\n",
    "    CL = price_blocks[:, -1]\n",
    "    CL_prev = np.concatenate([[CL[0]], CL[:-1]])\n",
    "\n",
    "    # abs not rly needed but why not ?)\n",
    "    TR = np.maximum(np.abs(H - L), np.maximum(np.abs(H - CL_prev), np.abs(L - CL_prev)))\n",
    "    # ATR = average_row(TR, n_prev, \"TR\" * output)\n",
    "    # ATR = rolling_window(TR, n_prev, f = lambda x: x.sum() / n_prev)\n",
    "    ATR = smoothing_Wilder(TR, n_prev)\n",
    "    \n",
    "    DM_plus = H - prev(H)\n",
    "    DM_minus = prev(L) - L\n",
    "\n",
    "    DI_plus = get_DI(DM_plus, ATR, DM_plus > DM_minus, n_prev)\n",
    "    DI_minus = get_DI(DM_minus, ATR, DM_plus < DM_minus, n_prev)\n",
    "    \n",
    "    DX = np.abs(DI_plus - DI_minus) / remove_zero_div(np.abs(DI_plus + DI_minus)) * 100\n",
    "    # ADX = rolling_window(DX, n_prev, f = lambda x: x.sum() / n_prev)\n",
    "    ADX = average_row(DX, n_prev, \"DX\" * output)\n",
    "    # ADX = smoothing_Wilder(DX, n_prev)\n",
    "    return avg_metric(ADX, pair_blocks)"
   ]
  },
  {
   "cell_type": "code",
   "execution_count": 38,
   "id": "ee456870",
   "metadata": {},
   "outputs": [
    {
     "data": {
      "application/vnd.jupyter.widget-view+json": {
       "model_id": "13a3b3be5967472abd03b4c8208fe6d1",
       "version_major": 2,
       "version_minor": 0
      },
      "text/plain": [
       "HBox(children=(FloatProgress(value=0.0, description='averaging DX', max=2054891.0, style=ProgressStyle(descrip…"
      ]
     },
     "metadata": {},
     "output_type": "display_data"
    },
    {
     "name": "stdout",
     "output_type": "stream",
     "text": [
      "\n"
     ]
    },
    {
     "data": {
      "application/vnd.jupyter.widget-view+json": {
       "model_id": "be7e1699f9c4459d90ea2e5a4c74b7bb",
       "version_major": 2,
       "version_minor": 0
      },
      "text/plain": [
       "HBox(children=(FloatProgress(value=0.0, description='averaging DX', max=2054891.0, style=ProgressStyle(descrip…"
      ]
     },
     "metadata": {},
     "output_type": "display_data"
    },
    {
     "name": "stdout",
     "output_type": "stream",
     "text": [
      "\n"
     ]
    }
   ],
   "source": [
    "# Average directional index\n",
    "df[\"ADX_timed\"] = get_ADX(trades, trds_blocks, pair_blocks, output = True)\n",
    "df[\"ADX_last\"] = get_ADX(trades, trds_blocks, pair_blocks_last, output = True)"
   ]
  },
  {
   "cell_type": "code",
   "execution_count": 39,
   "id": "90ee69cb",
   "metadata": {},
   "outputs": [
    {
     "data": {
      "image/png": "[encoded data removed]",
      "text/plain": [
       "<Figure size 864x432 with 1 Axes>"
      ]
     },
     "metadata": {
      "image/png": {
       "height": 360,
       "width": 729
      }
     },
     "output_type": "display_data"
    }
   ],
   "source": [
    "show_bins(df.ADX_last, outliers = True)"
   ]
  },
  {
   "cell_type": "code",
   "execution_count": 40,
   "id": "d00fb523",
   "metadata": {},
   "outputs": [],
   "source": [
    "def get_Chande_Mom_Osc(trades, trds_blocks, pair_blocks, n_prev = 20, output = False):\n",
    "    prev_blocks = prev_n_blocks_close(trades, trds_blocks, n_prev, output)\n",
    "    \n",
    "    indc_list = [np.ones(trds_blocks.shape[0]).astype(bool)[:, np.newaxis]]\n",
    "    # у них опечатка с индексами t -> i\n",
    "    for i in range(1, n_prev):\n",
    "        indc_list.append((prev_blocks[:, i] >= prev_blocks[:, i - 1])[:, np.newaxis])\n",
    "        \n",
    "    indc = np.concatenate(indc_list, axis = 1)\n",
    "    S_u = (prev_blocks * indc).sum(axis = 1)\n",
    "    S_d = (prev_blocks * ~indc).sum(axis = 1)\n",
    "        \n",
    "    oscillator = ((S_u - S_d)/(S_u + S_d) - 1) * 100\n",
    "    # oscillator = (S_u - S_d)/(S_u + S_d) * 100\n",
    "    \n",
    "    return avg_metric(oscillator, pair_blocks)"
   ]
  },
  {
   "cell_type": "code",
   "execution_count": 41,
   "id": "179a75ff",
   "metadata": {},
   "outputs": [
    {
     "data": {
      "application/vnd.jupyter.widget-view+json": {
       "model_id": "e539b8d2f5754a0a881ab52e8c54fbb0",
       "version_major": 2,
       "version_minor": 0
      },
      "text/plain": [
       "HBox(children=(FloatProgress(value=0.0, description='n_prev', max=20.0, style=ProgressStyle(description_width=…"
      ]
     },
     "metadata": {},
     "output_type": "display_data"
    },
    {
     "name": "stdout",
     "output_type": "stream",
     "text": [
      "\n"
     ]
    },
    {
     "data": {
      "application/vnd.jupyter.widget-view+json": {
       "model_id": "2ac8066a9f904819835df11893a7d299",
       "version_major": 2,
       "version_minor": 0
      },
      "text/plain": [
       "HBox(children=(FloatProgress(value=0.0, description='n_prev', max=20.0, style=ProgressStyle(description_width=…"
      ]
     },
     "metadata": {},
     "output_type": "display_data"
    },
    {
     "name": "stdout",
     "output_type": "stream",
     "text": [
      "\n"
     ]
    }
   ],
   "source": [
    "df[\"CMO_timed\"] = get_Chande_Mom_Osc(trades, trds_blocks, pair_blocks, output = True)\n",
    "df[\"CMO_last\"] = get_Chande_Mom_Osc(trades, trds_blocks, pair_blocks_last, output = True)"
   ]
  },
  {
   "cell_type": "code",
   "execution_count": 42,
   "id": "8b73ba5e",
   "metadata": {},
   "outputs": [
    {
     "data": {
      "image/png": "[encoded data removed]",
      "text/plain": [
       "<Figure size 864x432 with 1 Axes>"
      ]
     },
     "metadata": {
      "image/png": {
       "height": 360,
       "width": 736
      }
     },
     "output_type": "display_data"
    }
   ],
   "source": [
    "show_bins(df.CMO_timed)"
   ]
  },
  {
   "cell_type": "code",
   "execution_count": 43,
   "id": "6beba59d",
   "metadata": {},
   "outputs": [],
   "source": [
    "def get_Rate_Of_Change(trades, trds_blocks, pair_blocks, n_prev = 12, output = False):\n",
    "    prev_blocks = prev_n_blocks_close(trades, trds_blocks, n_prev, output)\n",
    "        \n",
    "    CL_prev = prev_blocks.mean(axis = 1)\n",
    "    CL = prev_blocks[:, 0]\n",
    "        \n",
    "    rate_change = (CL - CL_prev) / CL_prev * 100\n",
    "    \n",
    "    return avg_metric(rate_change, pair_blocks)"
   ]
  },
  {
   "cell_type": "code",
   "execution_count": 44,
   "id": "0ae9b133",
   "metadata": {},
   "outputs": [
    {
     "data": {
      "application/vnd.jupyter.widget-view+json": {
       "model_id": "c5379ad6cf7e4415998a43f20ffa43ec",
       "version_major": 2,
       "version_minor": 0
      },
      "text/plain": [
       "HBox(children=(FloatProgress(value=0.0, description='n_prev', max=12.0, style=ProgressStyle(description_width=…"
      ]
     },
     "metadata": {},
     "output_type": "display_data"
    },
    {
     "name": "stdout",
     "output_type": "stream",
     "text": [
      "\n"
     ]
    },
    {
     "data": {
      "application/vnd.jupyter.widget-view+json": {
       "model_id": "7c58e310798e49579a54ed7d2bdee140",
       "version_major": 2,
       "version_minor": 0
      },
      "text/plain": [
       "HBox(children=(FloatProgress(value=0.0, description='n_prev', max=12.0, style=ProgressStyle(description_width=…"
      ]
     },
     "metadata": {},
     "output_type": "display_data"
    },
    {
     "name": "stdout",
     "output_type": "stream",
     "text": [
      "\n"
     ]
    }
   ],
   "source": [
    "df[\"ROC_timed\"] = get_Rate_Of_Change(trades, trds_blocks, pair_blocks, output =  True)\n",
    "df[\"ROC_last\"] = get_Rate_Of_Change(trades, trds_blocks, pair_blocks_last, output =  True)"
   ]
  },
  {
   "cell_type": "code",
   "execution_count": 45,
   "id": "aca0fd17",
   "metadata": {},
   "outputs": [
    {
     "data": {
      "image/png": "[encoded data removed]",
      "text/plain": [
       "<Figure size 864x432 with 1 Axes>"
      ]
     },
     "metadata": {
      "image/png": {
       "height": 360,
       "width": 736
      }
     },
     "output_type": "display_data"
    }
   ],
   "source": [
    "show_bins(df.ROC_timed)"
   ]
  },
  {
   "cell_type": "code",
   "execution_count": 46,
   "id": "31a85211",
   "metadata": {},
   "outputs": [],
   "source": [
    "def get_Momentum(trades, trds_blocks, pair_blocks, output = False):\n",
    "    prev_blocks = prev_n_blocks_close(trades, trds_blocks, 2, output)\n",
    "    momentum = prev_blocks[:, 0] - prev_blocks[:, 1]\n",
    "    return avg_metric(momentum, pair_blocks)"
   ]
  },
  {
   "cell_type": "code",
   "execution_count": 47,
   "id": "b7545ec3",
   "metadata": {},
   "outputs": [
    {
     "data": {
      "application/vnd.jupyter.widget-view+json": {
       "model_id": "372e35a27eab4cba8de1921d68455d8d",
       "version_major": 2,
       "version_minor": 0
      },
      "text/plain": [
       "HBox(children=(FloatProgress(value=0.0, description='n_prev', max=2.0, style=ProgressStyle(description_width='…"
      ]
     },
     "metadata": {},
     "output_type": "display_data"
    },
    {
     "name": "stdout",
     "output_type": "stream",
     "text": [
      "\n"
     ]
    },
    {
     "data": {
      "application/vnd.jupyter.widget-view+json": {
       "model_id": "3d2f2c630cf34792a3990f095bf2b755",
       "version_major": 2,
       "version_minor": 0
      },
      "text/plain": [
       "HBox(children=(FloatProgress(value=0.0, description='n_prev', max=2.0, style=ProgressStyle(description_width='…"
      ]
     },
     "metadata": {},
     "output_type": "display_data"
    },
    {
     "name": "stdout",
     "output_type": "stream",
     "text": [
      "\n"
     ]
    }
   ],
   "source": [
    "df[\"MOM_timed\"] = get_Momentum(trades, trds_blocks, pair_blocks, output = True)\n",
    "df[\"MOM_last\"] = get_Momentum(trades, trds_blocks, pair_blocks_last, output = True)"
   ]
  },
  {
   "cell_type": "code",
   "execution_count": 48,
   "id": "189f86f4",
   "metadata": {},
   "outputs": [
    {
     "data": {
      "image/png": "[encoded data removed]",
      "text/plain": [
       "<Figure size 864x432 with 1 Axes>"
      ]
     },
     "metadata": {
      "image/png": {
       "height": 371,
       "width": 708
      }
     },
     "output_type": "display_data"
    }
   ],
   "source": [
    "show_bins(df.MOM_timed)"
   ]
  },
  {
   "cell_type": "code",
   "execution_count": 49,
   "id": "22f8dd4c",
   "metadata": {},
   "outputs": [],
   "source": [
    "def get_RSI(trades, trds_blocks, pair_blocks, n_prev = 14, output = False):\n",
    "    prev_blocks = prev_n_blocks_close(trades, trds_blocks, n_prev, output)\n",
    "    \n",
    "    indc_list = [np.ones(trds_blocks.shape[0]).astype(bool)[:, np.newaxis]]\n",
    "    # у них опечатка с индексами t -> i\n",
    "    for i in range(1, n_prev):\n",
    "        indc_list.append((prev_blocks[:, i] >= prev_blocks[:, i - 1])[:, np.newaxis])\n",
    "        \n",
    "    indc = np.concatenate(indc_list, axis = 1)\n",
    "    S_u = (prev_blocks * indc).sum(axis = 1) # AG * n\n",
    "    S_d = (prev_blocks * ~indc).sum(axis = 1) # AL * n\n",
    "    \n",
    "    Rel_Strength = S_u / remove_zero_div(S_d)\n",
    "        \n",
    "    RSI = 100 - 100 / (1 + Rel_Strength)\n",
    "    \n",
    "    return avg_metric(RSI, pair_blocks)"
   ]
  },
  {
   "cell_type": "code",
   "execution_count": 50,
   "id": "da18f3f9",
   "metadata": {},
   "outputs": [
    {
     "data": {
      "application/vnd.jupyter.widget-view+json": {
       "model_id": "b845c2063e6245c9ad0c8bc07de9d2fa",
       "version_major": 2,
       "version_minor": 0
      },
      "text/plain": [
       "HBox(children=(FloatProgress(value=0.0, description='n_prev', max=14.0, style=ProgressStyle(description_width=…"
      ]
     },
     "metadata": {},
     "output_type": "display_data"
    },
    {
     "name": "stdout",
     "output_type": "stream",
     "text": [
      "\n"
     ]
    },
    {
     "data": {
      "application/vnd.jupyter.widget-view+json": {
       "model_id": "f0578ca0c92849d9935c83b824217836",
       "version_major": 2,
       "version_minor": 0
      },
      "text/plain": [
       "HBox(children=(FloatProgress(value=0.0, description='n_prev', max=14.0, style=ProgressStyle(description_width=…"
      ]
     },
     "metadata": {},
     "output_type": "display_data"
    },
    {
     "name": "stdout",
     "output_type": "stream",
     "text": [
      "\n"
     ]
    },
    {
     "data": {
      "text/plain": [
       "[<matplotlib.lines.Line2D at 0x7f8c1fa0ded0>]"
      ]
     },
     "execution_count": 50,
     "metadata": {},
     "output_type": "execute_result"
    },
    {
     "data": {
      "image/png": "[encoded data removed]",
      "text/plain": [
       "<Figure size 864x432 with 1 Axes>"
      ]
     },
     "metadata": {
      "image/png": {
       "height": 373,
       "width": 711
      }
     },
     "output_type": "display_data"
    }
   ],
   "source": [
    "# just cause already coded this one in\n",
    "df[\"RSI_timed\"] = get_RSI(trades, trds_blocks, pair_blocks, output = True)\n",
    "df[\"RSI_last\"] = get_RSI(trades, trds_blocks, pair_blocks_last, output = True)\n",
    "plt.plot(np.sort(df.RSI_timed.to_numpy()))"
   ]
  },
  {
   "cell_type": "code",
   "execution_count": 51,
   "id": "0775a402",
   "metadata": {},
   "outputs": [],
   "source": [
    "def get_Stock_RSI(trades, trds_blocks, pair_blocks, n_prev_rsi = 14, n_prev_stock = 10, output = False):\n",
    "    num = n_prev_rsi + n_prev_stock - 1\n",
    "    prev_blocks = prev_n_blocks_close(trades, trds_blocks, num, output)\n",
    "    \n",
    "    indc_list = [np.ones(trds_blocks.shape[0]).astype(bool)[:, np.newaxis]]\n",
    "    # у них опечатка с индексами t -> i\n",
    "    for i in range(1, num):\n",
    "        indc_list.append((prev_blocks[:, i] >= prev_blocks[:, i - 1])[:, np.newaxis])\n",
    "        \n",
    "    indc = np.concatenate(indc_list, axis = 1)\n",
    "    \n",
    "    S_u = (prev_blocks * indc).cumsum(axis = 1) \n",
    "    S_d = (prev_blocks * ~indc).cumsum(axis = 1) \n",
    "    \n",
    "    RSI_s = []\n",
    "    \n",
    "    rr = range(n_prev_stock)\n",
    "    if output:\n",
    "        rr = tqdm(rr, desc = \"calc stock\")\n",
    "    for i in rr:\n",
    "        S_u_i = S_u[:, i + (n_prev_rsi - 1)]\n",
    "        if i > 0:\n",
    "            S_u_i -= S_u[:, i - 1]\n",
    "        \n",
    "            \n",
    "        S_d_i = S_d[:, i + (n_prev_rsi - 1)]\n",
    "        if i > 0:\n",
    "            S_d_i -= S_d[:, i - 1]\n",
    "            \n",
    "        Rel_Strength = S_u_i / remove_zero_div(S_d_i)\n",
    "        RSI_i = 100 - 100 / (1 + Rel_Strength)\n",
    "        RSI_s.append(RSI_i[:, np.newaxis])\n",
    "        \n",
    "    RSI_n = np.concatenate(RSI_s, axis = 1)\n",
    "    \n",
    "    RSI_diff = RSI_n.max(axis = 1) - RSI_n.min(axis = 1)\n",
    "    # print(np.abs((avg_metric(RSI_n[:, 0], pair_blocks) -\\\n",
    "    #    get_RSI(trades, trds_blocks, pair_blocks, n_prev_rsi))).sum()) # 0.0\n",
    "    Stock_RSI = (RSI_n[:, 0] - RSI_n.min(axis = 1)) / remove_zero_div(RSI_diff)\n",
    "    return avg_metric(Stock_RSI, pair_blocks)"
   ]
  },
  {
   "cell_type": "code",
   "execution_count": 52,
   "id": "9ad6f113",
   "metadata": {},
   "outputs": [
    {
     "data": {
      "application/vnd.jupyter.widget-view+json": {
       "model_id": "08625ac8c0a843e494f421e74e8877e2",
       "version_major": 2,
       "version_minor": 0
      },
      "text/plain": [
       "HBox(children=(FloatProgress(value=0.0, description='n_prev', max=23.0, style=ProgressStyle(description_width=…"
      ]
     },
     "metadata": {},
     "output_type": "display_data"
    },
    {
     "name": "stdout",
     "output_type": "stream",
     "text": [
      "\n"
     ]
    },
    {
     "data": {
      "application/vnd.jupyter.widget-view+json": {
       "model_id": "ad16da0c56a74c5281ca5c817b036bfa",
       "version_major": 2,
       "version_minor": 0
      },
      "text/plain": [
       "HBox(children=(FloatProgress(value=0.0, description='calc stock', max=10.0, style=ProgressStyle(description_wi…"
      ]
     },
     "metadata": {},
     "output_type": "display_data"
    },
    {
     "name": "stdout",
     "output_type": "stream",
     "text": [
      "\n"
     ]
    },
    {
     "data": {
      "application/vnd.jupyter.widget-view+json": {
       "model_id": "f0b980c2668047ca9b5c10ea81efe71d",
       "version_major": 2,
       "version_minor": 0
      },
      "text/plain": [
       "HBox(children=(FloatProgress(value=0.0, description='n_prev', max=23.0, style=ProgressStyle(description_width=…"
      ]
     },
     "metadata": {},
     "output_type": "display_data"
    },
    {
     "name": "stdout",
     "output_type": "stream",
     "text": [
      "\n"
     ]
    },
    {
     "data": {
      "application/vnd.jupyter.widget-view+json": {
       "model_id": "0f41560e82f348448b67d212d6660d2c",
       "version_major": 2,
       "version_minor": 0
      },
      "text/plain": [
       "HBox(children=(FloatProgress(value=0.0, description='calc stock', max=10.0, style=ProgressStyle(description_wi…"
      ]
     },
     "metadata": {},
     "output_type": "display_data"
    },
    {
     "name": "stdout",
     "output_type": "stream",
     "text": [
      "\n"
     ]
    },
    {
     "data": {
      "text/plain": [
       "[<matplotlib.lines.Line2D at 0x7f8a98712d50>]"
      ]
     },
     "execution_count": 52,
     "metadata": {},
     "output_type": "execute_result"
    },
    {
     "data": {
      "image/png": "[encoded data removed]",
      "text/plain": [
       "<Figure size 864x432 with 1 Axes>"
      ]
     },
     "metadata": {
      "image/png": {
       "height": 373,
       "width": 708
      }
     },
     "output_type": "display_data"
    }
   ],
   "source": [
    "# Stochastic Relative Strength Index\n",
    "df[\"Stock_RSI_timed\"] = get_Stock_RSI(trades, trds_blocks, pair_blocks, output = True)\n",
    "df[\"Stock_RSI_last\"] = get_Stock_RSI(trades, trds_blocks, pair_blocks_last, output = True)\n",
    "plt.plot(np.sort(df.Stock_RSI_timed.to_numpy()))"
   ]
  },
  {
   "cell_type": "code",
   "execution_count": 53,
   "id": "e881b885",
   "metadata": {},
   "outputs": [],
   "source": [
    "def get_LinReg_coefs(trades, trds_blocks, pair_blocks, output = False):\n",
    "    # np.linalg.solve # sadly decided to do it by hand\n",
    "    prices = trades.price.to_numpy()[trds_blocks]\n",
    "    # ?? last know price within block?\n",
    "    MB_prices = prices[:, :-1]\n",
    "    PV = prices[:, 1:] \n",
    "    MB_prices_mean = MB_prices.mean(axis = 1).reshape(-1, 1)\n",
    "    PV_mean = PV.mean(axis = 1).reshape(-1, 1)\n",
    "    \n",
    "    diff_sum = ((MB_prices - MB_prices_mean)*(PV - PV_mean)).sum(axis = 1)\n",
    "    corr_coef = ((MB_prices - MB_prices_mean)**2).sum(axis = 1) * ((PV - PV_mean)**2).sum(axis = 1)\n",
    "    r = diff_sum / remove_zero_div(corr_coef)\n",
    "    c2 = (PV.std(axis = 1) / remove_zero_div(MB_prices.std(axis = 1))).reshape(-1, 1)\n",
    "    c1 = PV_mean - c2 * MB_prices_mean\n",
    "    \n",
    "    return avg_metric(c1, pair_blocks), avg_metric(c2, pair_blocks), avg_metric(corr_coef, pair_blocks)"
   ]
  },
  {
   "cell_type": "code",
   "execution_count": 54,
   "id": "7af69e33",
   "metadata": {},
   "outputs": [],
   "source": [
    "# Linear regression line\n",
    "df[\"Reg_intertimed\"], df[\"Reg_slopetimed\"], df[\"Reg_corrtimed\"] = \\\n",
    "    get_LinReg_coefs(trades, trds_blocks, pair_blocks)\n",
    "df[\"Reg_inter_last\"], df[\"Reg_slope_last\"], df[\"Reg_corr_last\"] = \\\n",
    "    get_LinReg_coefs(trades, trds_blocks, pair_blocks_last)"
   ]
  },
  {
   "cell_type": "code",
   "execution_count": 55,
   "id": "f49c8ada",
   "metadata": {},
   "outputs": [],
   "source": [
    "def prev_n(FF, n_prev = 2):\n",
    "    return np.concatenate([FF[0].reshape(1, -1) for i in range(n_prev)] +  [FF[:-n_prev]], axis = 0)"
   ]
  },
  {
   "cell_type": "code",
   "execution_count": 56,
   "id": "b88b2a70",
   "metadata": {},
   "outputs": [],
   "source": [
    "def get_Autocorrelation(trades, trds_blocks, pair_blocks, lag = 2, output = False):\n",
    "    price_b = trades.price.to_numpy()[trds_blocks]\n",
    "    mu = price_b.mean(axis = 1).reshape(-1, 1)\n",
    "    price_b_lag = prev_n(price_b, lag)\n",
    "    top = np.mean((price_b - mu) * (price_b_lag - mu), axis = 1)\n",
    "    bot = np.mean((price_b - mu)**2) * np.mean((price_b_lag - mu)**2, axis = 1)\n",
    "    ac = top / remove_zero_div(np.sqrt(bot))\n",
    "    return avg_metric(ac, pair_blocks)"
   ]
  },
  {
   "cell_type": "code",
   "execution_count": 57,
   "id": "e0902b9a",
   "metadata": {},
   "outputs": [],
   "source": [
    "# Quant Analysis 8 Autocorrelation\n",
    "df[\"AC\"] = get_Autocorrelation(trades, trds_blocks, pair_blocks, output = True)"
   ]
  },
  {
   "cell_type": "code",
   "execution_count": 58,
   "id": "b675dca6",
   "metadata": {},
   "outputs": [
    {
     "data": {
      "image/png": "[encoded data removed]",
      "text/plain": [
       "<Figure size 864x432 with 1 Axes>"
      ]
     },
     "metadata": {
      "image/png": {
       "height": 371,
       "width": 708
      }
     },
     "output_type": "display_data"
    }
   ],
   "source": [
    "show_bins(df.AC)"
   ]
  },
  {
   "cell_type": "code",
   "execution_count": 59,
   "id": "9edd8dc8",
   "metadata": {},
   "outputs": [],
   "source": [
    "def get_Partial_Correlation(trades, trds_blocks, pair_blocks, output = True):\n",
    "    # dummy TODO\n",
    "    return get_Autocorrelation(trades, trds_blocks, pair_blocks, output = True)  + np.random.rand(df.shape[0])"
   ]
  },
  {
   "cell_type": "code",
   "execution_count": 60,
   "id": "35e6ed0a",
   "metadata": {},
   "outputs": [],
   "source": [
    "# Quant Analysis 9 Partial Correlation\n",
    "df[\"PC\"] = get_Partial_Correlation(trades, trds_blocks, pair_blocks, output = True)"
   ]
  },
  {
   "cell_type": "code",
   "execution_count": 61,
   "id": "7d1d6ef6",
   "metadata": {},
   "outputs": [],
   "source": [
    "def prep_window(df, data, cols_to_keep, timestamp = \"local_timestamp\", prefix = \"\", time_window = 2000):\n",
    "    rename_mapper = {row: prefix + row for row in cols_to_keep}\n",
    "    rename_mapper[timestamp] = \"local_ts\"\n",
    "    \n",
    "    data = data[cols_to_keep].copy().sort_values(by = [timestamp])\n",
    "    data = data.rename(columns = rename_mapper)\n",
    "    data.local_ts = pd.to_datetime(data.local_ts)\n",
    "    return data"
   ]
  },
  {
   "cell_type": "code",
   "execution_count": 62,
   "id": "1e77656c",
   "metadata": {},
   "outputs": [],
   "source": [
    "def get_Cointegration(df, book, level = 0, time_window = 2000):\n",
    "    am = f\"asks[{level}].amount\"\n",
    "    bd = f\"bids[{level}].amount\"\n",
    "    prefix = \"book_\"\n",
    "    data = prep_window(df, book, [timestamp_to_use, am, bd]\\\n",
    "         , timestamp = timestamp_to_use, prefix = prefix, time_window = time_window)\n",
    "    rwindow = data.rolling(f\"{time_window}ms\", on = \"local_ts\")\n",
    "    am = prefix + am\n",
    "    bd = prefix + bd\n",
    "    def calc(ser):\n",
    "        ss = data.loc[ser.index]\n",
    "        A = ss[am]\n",
    "        B = ss[bd]\n",
    "        alpha = (A / B).mean()\n",
    "        return (A - alpha * B).mean()\n",
    "    # no other way?(\n",
    "    coin = rwindow.apply(calc, raw=False)\n",
    "    return coin"
   ]
  },
  {
   "cell_type": "code",
   "execution_count": 63,
   "id": "e6b18185",
   "metadata": {},
   "outputs": [],
   "source": [
    "# Quant Analysis 10 Cointegration based on Engle-Granger test\n",
    "# df[\"COIN_full\"] = get_Cointegration(df, book_spot) \n",
    "# very very slow \n",
    "# don't see a way to optimise \n",
    "# if you wait out seems ok"
   ]
  },
  {
   "cell_type": "code",
   "execution_count": 64,
   "id": "773ff923",
   "metadata": {},
   "outputs": [],
   "source": [
    "def get_Cointegration_fast(df, book, level = 0, time_window = 2000):\n",
    "    am = f\"asks[{level}].amount\"\n",
    "    bd = f\"bids[{level}].amount\"\n",
    "    prefix = \"book_\"\n",
    "    df_book = add_data(df, book, [timestamp_to_use, am, bd]\\\n",
    "         , timestamp = timestamp_to_use, prefix = prefix)\n",
    "    asks_amount = df_book[f\"{prefix}{am}\"].to_numpy()\n",
    "    bids_amount = df_book[f\"{prefix}{bd}\"].to_numpy()\n",
    "    # very bad estimator # change later tho)\n",
    "    alpha = (bids_amount / bids_amount).mean() \n",
    "    return (asks_amount - alpha * bids_amount)"
   ]
  },
  {
   "cell_type": "code",
   "execution_count": 65,
   "id": "3c1bedf8",
   "metadata": {},
   "outputs": [],
   "source": [
    "# faster but worse var cause \n",
    "df[\"COIN\"] = get_Cointegration_fast(df, book_spot)"
   ]
  },
  {
   "cell_type": "code",
   "execution_count": 66,
   "id": "5ca67d37",
   "metadata": {},
   "outputs": [
    {
     "data": {
      "application/vnd.jupyter.widget-view+json": {
       "model_id": "e4e6d129ef4944339cfb8b3c0668a387",
       "version_major": 2,
       "version_minor": 0
      },
      "text/plain": [
       "HBox(children=(FloatProgress(value=0.0, max=4.0), HTML(value='')))"
      ]
     },
     "metadata": {},
     "output_type": "display_data"
    },
    {
     "name": "stdout",
     "output_type": "stream",
     "text": [
      "\n"
     ]
    }
   ],
   "source": [
    "# Quant Analysis 11 Order Book Imbalance\n",
    "for i in tqdm(range(4)):\n",
    "    df[f\"VI_{i}\"] = orderbook_imb(df, book_spot, level = i, method = \"diff\")"
   ]
  },
  {
   "cell_type": "code",
   "execution_count": 67,
   "id": "fa0058f4",
   "metadata": {},
   "outputs": [],
   "source": [
    "def get_Adaptive_Logistic_Regression(trades, trds_blocks, pair_blocks, output = True):\n",
    "    # dummy TODO\n",
    "    return avg_metric(np.random.rand(trds_blocks.shape[0]), pair_blocks)"
   ]
  },
  {
   "cell_type": "code",
   "execution_count": 68,
   "id": "65775709",
   "metadata": {},
   "outputs": [],
   "source": [
    "# Quant Analysis 12 Adaptive Logistic Regression\n",
    "df[\"ALogReg\"] = get_Adaptive_Logistic_Regression(trades, trds_blocks, pair_blocks, output = True)"
   ]
  },
  {
   "cell_type": "code",
   "execution_count": 69,
   "id": "ddd3fa5a",
   "metadata": {},
   "outputs": [],
   "source": [
    "def get_Realized_Var(trades, trds_blocks, pair_blocks, n_prev = 20, output = False):\n",
    "    prev_blocks = prev_n_blocks_close(trades, trds_blocks, n_prev, output)\n",
    "    # 1st block doesn't matter cause no target chooses that one\n",
    "    ones_block = np.ones((1, prev_blocks.shape[1]))\n",
    "    prev_prev_blocks = np.concatenate([ones_block, prev_blocks[:-1, :]], axis = 0)\n",
    "    r = np.log(prev_blocks) - np.log(prev_prev_blocks)\n",
    "    RVar = (r ** 2).sum(axis = 1) / n_prev * 100\n",
    "    RVar = np.concatenate([[0], RVar])\n",
    "    return avg_metric(RVar, pair_blocks)\n",
    "            \n",
    "def get_Realized_Vol(trades, trds_blocks, pair_blocks, n_prev = 20, output = False):\n",
    "    prev_blocks = prev_n_blocks_close(trades, trds_blocks, n_prev, output)\n",
    "    ones_block = np.ones((1, prev_blocks.shape[1]))\n",
    "    prev_prev_blocks = np.concatenate([ones_block, prev_blocks[:-1, :]], axis = 0)\n",
    "    r = np.log(prev_blocks) - np.log(prev_prev_blocks)\n",
    "    RVar = (r ** 2).sum(axis = 1) / n_prev * 100\n",
    "    RVol = np.sqrt(RVar) * 100\n",
    "    return avg_metric(RVol, pair_blocks)"
   ]
  },
  {
   "cell_type": "code",
   "execution_count": 70,
   "id": "826d290d",
   "metadata": {},
   "outputs": [],
   "source": [
    "# Realized Variance (cause why not)\n",
    "# df[\"RVar\"] = get_Realized_Var(trades, trds_blocks, pair_blocks, output = True)"
   ]
  },
  {
   "cell_type": "code",
   "execution_count": 71,
   "id": "7d43d35f",
   "metadata": {},
   "outputs": [
    {
     "data": {
      "application/vnd.jupyter.widget-view+json": {
       "model_id": "19493ed6b11e45f9b209be48ff0b9498",
       "version_major": 2,
       "version_minor": 0
      },
      "text/plain": [
       "HBox(children=(FloatProgress(value=0.0, description='n_prev', max=20.0, style=ProgressStyle(description_width=…"
      ]
     },
     "metadata": {},
     "output_type": "display_data"
    },
    {
     "name": "stdout",
     "output_type": "stream",
     "text": [
      "\n"
     ]
    }
   ],
   "source": [
    "# Realized Volatility\n",
    "df[\"RVol\"] = get_Realized_Vol(trades, trds_blocks, pair_blocks, output = True)"
   ]
  },
  {
   "cell_type": "code",
   "execution_count": 72,
   "id": "2cec371d",
   "metadata": {},
   "outputs": [],
   "source": [
    "def y(X): # not sure\n",
    "    return ((X - X.mean())**2).mean(axis = 1)\n",
    "def get_Realized_Kernel(trades, trds_blocks, pair_blocks, n_prev = 10, output = False):\n",
    "    prev_blocks = prev_n_blocks_close(trades, trds_blocks, n_prev, output)\n",
    "    zeros_block = np.zeros((1, prev_blocks.shape[1]))\n",
    "    r = y(prev_blocks)\n",
    "    kernel = [r[:, np.newaxis]]\n",
    "    rr = range(1, n_prev)\n",
    "    if output:\n",
    "        rr = tqdm(rr, desc = \"cal kernel\")\n",
    "    for i in rr:\n",
    "        h_H = i / n_prev\n",
    "        k = (1 + h_H) * np.exp(-h_H)\n",
    "        prev_i_blocks = np.concatenate([zeros_block for i in range(i)] + [prev_blocks[:-i, :]], axis = 0)\n",
    "        r = (y(prev_blocks) + y(prev_i_blocks)) / 2 # idk just feels better this way\n",
    "        kernel.append((k * r)[:, np.newaxis])\n",
    "    RK = np.concatenate(kernel).sum(axis = 1) / n_prev * 100\n",
    "    return avg_metric(RK, pair_blocks)"
   ]
  },
  {
   "cell_type": "code",
   "execution_count": 73,
   "id": "b9c0f8ea",
   "metadata": {},
   "outputs": [
    {
     "data": {
      "application/vnd.jupyter.widget-view+json": {
       "model_id": "fbc4b56c7a074cba896bdbf226a439b7",
       "version_major": 2,
       "version_minor": 0
      },
      "text/plain": [
       "HBox(children=(FloatProgress(value=0.0, description='n_prev', max=10.0, style=ProgressStyle(description_width=…"
      ]
     },
     "metadata": {},
     "output_type": "display_data"
    },
    {
     "name": "stdout",
     "output_type": "stream",
     "text": [
      "\n"
     ]
    },
    {
     "data": {
      "application/vnd.jupyter.widget-view+json": {
       "model_id": "43d9dd8c87de40958e2bd08bde33e25e",
       "version_major": 2,
       "version_minor": 0
      },
      "text/plain": [
       "HBox(children=(FloatProgress(value=0.0, description='cal kernel', max=9.0, style=ProgressStyle(description_wid…"
      ]
     },
     "metadata": {},
     "output_type": "display_data"
    },
    {
     "name": "stdout",
     "output_type": "stream",
     "text": [
      "\n"
     ]
    }
   ],
   "source": [
    "# Realized Kernel\n",
    "df[\"RK\"] = get_Realized_Kernel(trades, trds_blocks, pair_blocks, output = True)"
   ]
  },
  {
   "cell_type": "code",
   "execution_count": 74,
   "id": "9d31c5f8",
   "metadata": {},
   "outputs": [],
   "source": [
    "def get_Jump_Variation(trades, trds_blocks, pair_blocks, n_prev = 10, n_lag = 2, output = False):\n",
    "    prev_blocks = prev_n_blocks_close(trades, trds_blocks, n_prev + n_lag, output)\n",
    "    ones_block = np.ones((1, prev_blocks.shape[1]))\n",
    "    prev_prev_blocks = np.concatenate([ones_block, prev_blocks[:-1, :]], axis = 0)\n",
    "    r = np.log(prev_blocks) - np.log(prev_prev_blocks)\n",
    "    RVar = (r[:, :n_prev] ** 2).sum(axis = 1)\n",
    "    RBiVar_s = np.abs(r[:, :-n_lag]) * np.abs(r[:, n_lag:])\n",
    "    RBiVar = np.pi / 2 * RBiVar_s.sum(axis = 1)\n",
    "    \n",
    "    JumVar = np.maximum(RVar - RBiVar, 0) / n_prev * 100\n",
    "    return avg_metric(JumVar, pair_blocks)"
   ]
  },
  {
   "cell_type": "code",
   "execution_count": 75,
   "id": "b61e71d3",
   "metadata": {},
   "outputs": [],
   "source": [
    "# Jump Variation\n",
    "df[\"JumpVar\"] = get_Jump_Variation(trades, trds_blocks, pair_blocks)"
   ]
  },
  {
   "cell_type": "code",
   "execution_count": 76,
   "id": "23256581",
   "metadata": {},
   "outputs": [
    {
     "name": "stdout",
     "output_type": "stream",
     "text": [
      "saved snap ../data/df_2.parquet\n"
     ]
    }
   ],
   "source": [
    "save_df(df, snap = 2)"
   ]
  },
  {
   "cell_type": "code",
   "execution_count": 77,
   "id": "26f054d6",
   "metadata": {},
   "outputs": [
    {
     "name": "stdout",
     "output_type": "stream",
     "text": [
      "reading snap 2\n",
      "read parquet ../data/df_2.parquet\n",
      "df dataset with 59 features\n"
     ]
    }
   ],
   "source": [
    "df = read_df(snap = 2)"
   ]
  },
  {
   "cell_type": "code",
   "execution_count": 78,
   "id": "c1f9e776",
   "metadata": {},
   "outputs": [],
   "source": [
    "def DL_data(df, book, level = 10, timestamp_to_use = \"local_timestamp\"):\n",
    "    cols_to_keep = [timestamp_to_use]\n",
    "    for i in range(level):\n",
    "        am = f\"asks[{i}].amount\"\n",
    "        ap = f\"asks[{i}].price\"\n",
    "        bm = f\"bids[{i}].amount\"\n",
    "        bp = f\"bids[{i}].price\"\n",
    "        cols_to_keep += [am, ap, bm, bp]\n",
    "    df_book = add_data(df[\"local_ts\"], book, cols_to_keep \\\n",
    "         , timestamp = timestamp_to_use, prefix = \"book_\").drop(columns = [\"local_ts\"])\n",
    "    return df_book"
   ]
  },
  {
   "cell_type": "code",
   "execution_count": 79,
   "id": "7f2f532a",
   "metadata": {},
   "outputs": [
    {
     "name": "stdout",
     "output_type": "stream",
     "text": [
      "read parquet ../data/dl_df.parquet\n"
     ]
    }
   ],
   "source": [
    "file_parq = \"dl_df.parquet\"\n",
    "if file_parq not in os.listdir(data_dir):\n",
    "    dl_df = DL_data(df, book_spot)\n",
    "    dl_df.to_parquet(data_dir + file_parq)\n",
    "else:\n",
    "    dl_df = pd.read_parquet(data_dir + file_parq)\n",
    "    print(f\"read parquet {data_dir + file_parq}\")"
   ]
  },
  {
   "cell_type": "code",
   "execution_count": 80,
   "id": "7c41f65f",
   "metadata": {},
   "outputs": [
    {
     "data": {
      "text/plain": [
       "<torch._C.Generator at 0x7f82d8b98510>"
      ]
     },
     "execution_count": 80,
     "metadata": {},
     "output_type": "execute_result"
    }
   ],
   "source": [
    "import torch\n",
    "import torch.nn as nn\n",
    "import torch.nn.functional as F\n",
    "import torch.optim as optim\n",
    "\n",
    "torch.manual_seed(42)"
   ]
  },
  {
   "cell_type": "code",
   "execution_count": 81,
   "id": "63ea017b",
   "metadata": {},
   "outputs": [],
   "source": [
    "class LSTM_FIN(nn.Module):\n",
    "\n",
    "    def __init__(self, input_size, hidden_size = 128, output_size = 3, num_layers = 2):\n",
    "        super(LSTM_FIN, self).__init__()\n",
    "        self.hidden_size = hidden_size\n",
    "        self.lstm = nn.LSTM(input_size = input_size, hidden_size = hidden_size, num_layers = num_layers)\n",
    "        self.hidden2tag = nn.Linear(hidden_size, output_size)\n",
    "        \n",
    "        nn.init.xavier_uniform_(self.hidden2tag.weight)\n",
    "\n",
    "    def forward(self, seq):\n",
    "        \n",
    "        lstm_out, _ = self.lstm(seq)\n",
    "        tag_space = self.hidden2tag(lstm_out)\n",
    "        tag_scores = F.log_softmax(tag_space, dim=1)\n",
    "        return tag_scores"
   ]
  },
  {
   "cell_type": "code",
   "execution_count": 82,
   "id": "85ecdc67",
   "metadata": {},
   "outputs": [],
   "source": [
    "hidden_size = 128\n",
    "num_layers = 2\n",
    "device = torch.device('cuda' if torch.cuda.is_available() else 'cpu')\n",
    "model = LSTM_FIN(input_size = dl_df.shape[1], hidden_size = hidden_size, num_layers = num_layers)\\\n",
    "    .double().to(device)\n",
    "\n",
    "\n",
    "loss_function = nn.CrossEntropyLoss()\n",
    "optimizer = optim.Adam(model.parameters(), lr=1e-2)"
   ]
  },
  {
   "cell_type": "code",
   "execution_count": 83,
   "id": "5b010c99",
   "metadata": {},
   "outputs": [],
   "source": [
    "dl_tensor = torch.tensor(dl_df.to_numpy(), dtype = torch.double) # seq, batch, elem\n",
    "dl_targets = torch.ones(dl_tensor.shape[0]).long()\n",
    "dl_targets[df.target.to_numpy() == -1] = 0\n",
    "dl_targets[df.target.to_numpy() == 1] = 2"
   ]
  },
  {
   "cell_type": "markdown",
   "id": "1e87d9f7",
   "metadata": {},
   "source": [
    "Colab pro нет, то дальше обучение на CPU skull_emoji (не влезает в обычное кол-во RAM)\n",
    "\n",
    "Мб стоит не жадиться и снять кластер у Yandex Cloud (Colab сутдентам из РФ не особо оплатишь...)"
   ]
  },
  {
   "cell_type": "code",
   "execution_count": null,
   "id": "79044c5a",
   "metadata": {},
   "outputs": [
    {
     "data": {
      "application/vnd.jupyter.widget-view+json": {
       "model_id": "e47bcf74bb8044289d7b90227ba03180",
       "version_major": 2,
       "version_minor": 0
      },
      "text/plain": [
       "HBox(children=(FloatProgress(value=0.0, description='epoch 0 batch size 256', max=257.0, style=ProgressStyle(d…"
      ]
     },
     "metadata": {},
     "output_type": "display_data"
    },
    {
     "name": "stdout",
     "output_type": "stream",
     "text": [
      "tensor(1.0986, dtype=torch.float64, grad_fn=<NllLossBackward>)\n"
     ]
    }
   ],
   "source": [
    "def train_network(batch_size):\n",
    "    batches_num = dl_tensor.shape[0] // batch_size\n",
    "    inp_batches = torch.split(dl_tensor, batches_num)\n",
    "    target_batches = torch.split(dl_targets, batches_num)\n",
    "    for epoch in range(10): # 50\n",
    "        for i in tqdm(range(len(inp_batches)), desc = f\"epoch {epoch} batch size {batch_size}\"):\n",
    "            model.zero_grad()\n",
    "            inp = inp_batches[i][:, None, :].to(device)\n",
    "            target = target_batches[i].to(device)\n",
    "            output_prob = model(inp)[:, 0, :]\n",
    "            loss = loss_function(output_prob, target)\n",
    "            loss.backward()\n",
    "            optimizer.step()\n",
    "            if i % 25 == 0:\n",
    "                print(loss)\n",
    "                \n",
    "for batch_size in [256]:\n",
    "    train_network(batch_size)"
   ]
  },
  {
   "cell_type": "code",
   "execution_count": null,
   "id": "7b528fd2",
   "metadata": {},
   "outputs": [],
   "source": [
    "def inference_network(batch_size):\n",
    "    model.eval()\n",
    "    \n",
    "    with torch.no_grad():\n",
    "        batches_num = dl_tensor.shape[0] // batch_size\n",
    "        inp_batches = torch.split(dl_tensor, batches_num)\n",
    "        probas = []\n",
    "        preds = []\n",
    "        for i in tqdm(range(len(inp_batches)), desc = f\"eval batch size {batch_size}\"):\n",
    "                inp = inp_batches[i][:, None, :].to(device)\n",
    "                output_prob = model(inp)[:, 0, :]\n",
    "                probas.append(output_prob)\n",
    "\n",
    "                if i == 1:\n",
    "                    break\n",
    "\n",
    "        logprobas_mesh = torch.cat(probas, dim = 0)\n",
    "        probas_mesh = torch.exp(logprobas_mesh)\n",
    "        neg_feature = probas_mesh[:, 0].numpy()\n",
    "        neut_feature = probas_mesh[:, 1].numpy()\n",
    "        pos_feature = probas_mesh[:, 2].numpy()\n",
    "        pred_feature = probas_mesh.argmax(dim = -1).numpy()\n",
    "        dir_feature = np.array([arr[i] for (arr,i) in zip(logprobas_mesh, pred_feature)]) \n",
    "        # right way according to numpy docs\n",
    "    \n",
    "    return neg_feature, neut_feature, pos_feature, pred_feature, dir_feature\n",
    "\n",
    "model_name = \"LSTM\"\n",
    "for batch_size in [256]:\n",
    "    template = f\"{model_name}_%s_{batch_size}\"\n",
    "    features = inference_network(batch_size)\n",
    "    \n",
    "    df[template % \"neg\"] = features[0]\n",
    "    df[template % \"neu\"] = features[1]\n",
    "    df[template % \"pos\"] = features[2]\n",
    "    df[template % \"pred\"] = features[3]\n",
    "    df[template % \"dir\"] = features[4]"
   ]
  },
  {
   "cell_type": "markdown",
   "id": "d52e846e",
   "metadata": {},
   "source": [
    "## Some Feature Analysis "
   ]
  },
  {
   "cell_type": "code",
   "execution_count": null,
   "id": "6132739d",
   "metadata": {},
   "outputs": [],
   "source": [
    "corr = df[::10].drop(columns = [\"local_ts\"]).corr()\n",
    "\n",
    "sns.heatmap(corr, \n",
    "        xticklabels=corr.columns,\n",
    "        yticklabels=corr.columns)"
   ]
  },
  {
   "cell_type": "code",
   "execution_count": null,
   "id": "1fbd0a06",
   "metadata": {},
   "outputs": [],
   "source": [
    "corr = df[::10].drop(columns = [\"local_ts\", \"target\"]).corr()\n",
    "\n",
    "sns.heatmap(corr, \n",
    "        xticklabels=corr.columns,\n",
    "        yticklabels=corr.columns)"
   ]
  },
  {
   "cell_type": "markdown",
   "id": "77a6f821",
   "metadata": {},
   "source": [
    "## Model"
   ]
  },
  {
   "cell_type": "code",
   "execution_count": null,
   "id": "5f1c9d61",
   "metadata": {},
   "outputs": [],
   "source": [
    "df.describe()"
   ]
  },
  {
   "cell_type": "code",
   "execution_count": null,
   "id": "4be0206f",
   "metadata": {},
   "outputs": [],
   "source": [
    "from sklearn.linear_model import LinearRegression\n",
    "from sklearn.model_selection import train_test_split\n",
    "from metric_clf_hft import metric\n",
    "from sklearn.linear_model import LogisticRegression\n",
    "from sklearn.compose import ColumnTransformer\n",
    "from sklearn.preprocessing import StandardScaler\n",
    "from sklearn.model_selection import cross_val_score"
   ]
  },
  {
   "cell_type": "code",
   "execution_count": null,
   "id": "adb4d385",
   "metadata": {},
   "outputs": [],
   "source": [
    "df_cut = df.drop(columns = [\"local_ts\"])\n",
    "X_ = df_cut.drop(columns = [\"target\"])\n",
    "y_ = df_cut.target.to_numpy()"
   ]
  },
  {
   "cell_type": "code",
   "execution_count": null,
   "id": "0dc1a721",
   "metadata": {},
   "outputs": [],
   "source": [
    "# not using, but still here\n",
    "def bad_idea():\n",
    "    ct = ColumnTransformer([\n",
    "            ('scaler', StandardScaler(), X_.columns)\n",
    "        ], remainder='drop')\n",
    "    return ct.fit_transform(X_)\n",
    "# X_scaled_all = bad_idea()"
   ]
  },
  {
   "cell_type": "markdown",
   "id": "cb07ff42",
   "metadata": {},
   "source": [
    "0.7 train - 0.1 val - 0.2 test"
   ]
  },
  {
   "cell_type": "code",
   "execution_count": null,
   "id": "d8291c8c",
   "metadata": {},
   "outputs": [],
   "source": [
    "X_train, X_test, y_train, y_test = train_test_split(X_, y_, test_size = 0.2, random_state=42)\n",
    "X_train, X_val, y_train, y_val = train_test_split(X_train, y_train, test_size=0.125, random_state=1)"
   ]
  },
  {
   "cell_type": "code",
   "execution_count": null,
   "id": "84aeef4e",
   "metadata": {},
   "outputs": [],
   "source": [
    "X_train.shape, X_val.shape, X_test.shape"
   ]
  },
  {
   "cell_type": "markdown",
   "id": "aa518153",
   "metadata": {},
   "source": [
    "#### Small test on linear model"
   ]
  },
  {
   "cell_type": "code",
   "execution_count": null,
   "id": "bb3e574a",
   "metadata": {},
   "outputs": [],
   "source": [
    "model = LinearRegression() # maybe try classification next\n",
    "model.fit(X_train, y_train)"
   ]
  },
  {
   "cell_type": "code",
   "execution_count": null,
   "id": "59117a74",
   "metadata": {},
   "outputs": [],
   "source": [
    "y_pred = model.predict(X_test)"
   ]
  },
  {
   "cell_type": "code",
   "execution_count": null,
   "id": "9deb5671",
   "metadata": {},
   "outputs": [],
   "source": [
    "def calc_metric(y_test, y_pred, th = 0.5, output = False):\n",
    "    ans = np.zeros(y_pred.shape[0])\n",
    "    ans[y_pred > th] = 1\n",
    "    ans[y_pred < -th] = -1\n",
    "    if output:\n",
    "        unique, counts = np.unique(ans, return_counts=True)\n",
    "        print(dict(zip(unique,counts)))\n",
    "    return metric(y_test, ans)\n",
    "calc_metric(y_test, y_pred, th = 1e-06, output = True)"
   ]
  },
  {
   "cell_type": "code",
   "execution_count": null,
   "id": "4b236fb4",
   "metadata": {},
   "outputs": [],
   "source": [
    "# metric doesn't punish enough for spamming answers \n",
    "# or maybe reality doesn't (with low fees)\n",
    "# + i not doing backtesting\n",
    "def find_thr(layers, test_perc = 0.1, output = True, mode = \"linreg\"):\n",
    "    metrics = []\n",
    "    if output:\n",
    "        layers = tqdm(layers)\n",
    "    for th in layers:\n",
    "        n = y_pred.shape[0]\n",
    "        mask = np.random.choice(np.arange(n), size=round(n * test_perc), replace=False)\n",
    "        if mode == \"linreg\":\n",
    "            ans = np.zeros(mask.shape[0])\n",
    "            ans[y_pred[mask] > th] = 1\n",
    "            ans[y_pred[mask] < -th] = -1\n",
    "        elif mode == \"logreg\":\n",
    "            ans = y_pred[mask]\n",
    "        else:\n",
    "            raise ValueError()\n",
    "        mm = calc_metric(y_test[mask], ans, th = th)\n",
    "        metrics.append((mm, th))\n",
    "        if output:\n",
    "            print(th, mm)\n",
    "    return max(metrics)\n",
    "find_thr([1e-6, 0.001, 0.05, 0.1, 0.25, 0.5, 0.75], output = False)"
   ]
  },
  {
   "cell_type": "markdown",
   "id": "650e0b08",
   "metadata": {},
   "source": [
    "Самые важные для лин модели фичи (часть фичей не нормализирована, так что инсайды so so)"
   ]
  },
  {
   "cell_type": "code",
   "execution_count": null,
   "id": "06ae7773",
   "metadata": {},
   "outputs": [],
   "source": [
    "top_n = 10\n",
    "mean_cols = X_train.mean().to_numpy()\n",
    "std_cols = X_train.std().to_numpy()\n",
    "abs_coefs = np.abs(model.coef_ * mean_cols / std_cols)\n",
    "t_idx = np.argsort(-abs_coefs)[:top_n]\n",
    "weights = abs_coefs[t_idx]\n",
    "t_cols = X_.columns[t_idx]\n",
    "for i in range(top_n):\n",
    "    print(f\"{t_cols[i]} {round(weights[i], 3)}\")"
   ]
  },
  {
   "cell_type": "code",
   "execution_count": null,
   "id": "1389e68b",
   "metadata": {},
   "outputs": [],
   "source": [
    "model_gain = model.coef_ * X_train.mean() \n",
    "model_gain = model_gain.abs().sort_values(ascending = False)\n",
    "plt.title(\"Normalized input into final score\")\n",
    "sns.barplot(x = model_gain.values, y = model_gain.index, orient = \"h\")"
   ]
  },
  {
   "cell_type": "code",
   "execution_count": null,
   "id": "11db211e",
   "metadata": {},
   "outputs": [],
   "source": [
    "model_gain = model.coef_ * X_train.mean() / X_train.std()\n",
    "model_gain = model_gain.abs().sort_values(ascending = False)\n",
    "plt.title(\"Normalized abs input into final score\")\n",
    "sns.barplot(x = model_gain.values, y = model_gain.index, orient = \"h\")"
   ]
  },
  {
   "cell_type": "markdown",
   "id": "7b043261",
   "metadata": {},
   "source": [
    "#### LogReg Model"
   ]
  },
  {
   "cell_type": "code",
   "execution_count": null,
   "id": "8392647c",
   "metadata": {},
   "outputs": [],
   "source": [
    "class_weight = {\n",
    "    1:  1,\n",
    "    -1: 1,\n",
    "    0: 0.1\n",
    "}\n",
    "model = LogisticRegression(random_state=42, class_weight = class_weight).fit(X_train, y_train)"
   ]
  },
  {
   "cell_type": "code",
   "execution_count": null,
   "id": "2691f6e4",
   "metadata": {},
   "outputs": [],
   "source": [
    "metric(y_train[::100], model.predict(X_train[::100]))"
   ]
  },
  {
   "cell_type": "code",
   "execution_count": null,
   "id": "18b75a74",
   "metadata": {},
   "outputs": [],
   "source": [
    "def hft_scorer(estimator, X, y):\n",
    "    y_pred = estimator.predict(X)\n",
    "    return metric(y, y_pred)\n",
    "cross_val_score(model, X_val, y_val, cv=5, scoring = hft_scorer)"
   ]
  },
  {
   "cell_type": "code",
   "execution_count": null,
   "id": "a968de59",
   "metadata": {},
   "outputs": [],
   "source": []
  }
 ],
 "metadata": {
  "kernelspec": {
   "display_name": "plenoxel",
   "language": "python",
   "name": "plenoxel"
  },
  "language_info": {
   "codemirror_mode": {
    "name": "ipython",
    "version": 3
   },
   "file_extension": ".py",
   "mimetype": "text/x-python",
   "name": "python",
   "nbconvert_exporter": "python",
   "pygments_lexer": "ipython3",
   "version": "3.7.6"
  }
 },
 "nbformat": 4,
 "nbformat_minor": 5
}
