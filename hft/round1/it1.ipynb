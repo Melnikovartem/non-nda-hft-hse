{
 "cells": [
  {
   "cell_type": "markdown",
   "id": "f87be45a",
   "metadata": {},
   "source": [
    "## Features"
   ]
  },
  {
   "cell_type": "code",
   "execution_count": 1,
   "id": "8590d7c4",
   "metadata": {},
   "outputs": [],
   "source": [
    "import numpy as np\n",
    "import pandas as pd\n",
    "pd.set_option('display.max_rows', 100)\n",
    "pd.set_option('display.max_columns', 100)\n",
    "\n",
    "import matplotlib.pyplot as plt\n",
    "import seaborn as sns\n",
    "sns.set(style='whitegrid')\n",
    "\n",
    "from tqdm.auto import tqdm\n",
    "\n",
    "%config InlineBackend.figure_format = 'retina'\n",
    "plt.rcParams['figure.figsize'] = 12, 6\n",
    "plt.rcParams['font.size'] = 12\n",
    "sns.set_style('darkgrid')"
   ]
  },
  {
   "cell_type": "code",
   "execution_count": 2,
   "id": "94169b15",
   "metadata": {},
   "outputs": [],
   "source": [
    "# !unzip -p *.zip\n",
    "# !gzip -d *.gz"
   ]
  },
  {
   "cell_type": "code",
   "execution_count": 3,
   "id": "91134a6b",
   "metadata": {},
   "outputs": [
    {
     "name": "stdout",
     "output_type": "stream",
     "text": [
      "Fragmentation, Price Formation, and Cross-Impact in Bitcoin Markets.pdf\r\n",
      "\u001b[1m\u001b[34m__MACOSX\u001b[m\u001b[m\r\n",
      "\u001b[1m\u001b[34m__pycache__\u001b[m\u001b[m\r\n",
      "book.csv\r\n",
      "book.spot.csv\r\n",
      "hw1.ipynb\r\n",
      "metric_clf_hft.py\r\n",
      "target.csv\r\n",
      "ticker.csv\r\n",
      "ticker.spot.csv\r\n",
      "trades.csv\r\n",
      "trades.spot.csv\r\n"
     ]
    }
   ],
   "source": [
    "!ls"
   ]
  },
  {
   "cell_type": "code",
   "execution_count": 4,
   "id": "823c03d7",
   "metadata": {},
   "outputs": [],
   "source": [
    "target = pd.read_csv(\"target.csv\")\n",
    "ticker = pd.read_csv(\"ticker.csv\")\n",
    "ticker_spot = pd.read_csv(\"ticker.spot.csv\")\n",
    "trades = pd.read_csv(\"trades.csv\")\n",
    "trades_spot = pd.read_csv(\"trades.spot.csv\")\n",
    "book = pd.read_csv(\"book.csv\")\n",
    "book_spot = pd.read_csv(\"book.spot.csv\")"
   ]
  },
  {
   "cell_type": "code",
   "execution_count": 5,
   "id": "b0286b5e",
   "metadata": {},
   "outputs": [
    {
     "data": {
      "text/plain": [
       "((20548912, 7),\n",
       " (37566023, 8),\n",
       " (6403491, 104),\n",
       " (7257144, 7),\n",
       " (17783533, 6),\n",
       " (2305858, 104))"
      ]
     },
     "execution_count": 5,
     "metadata": {},
     "output_type": "execute_result"
    }
   ],
   "source": [
    "trades.shape, ticker.shape, book.shape, trades_spot.shape, ticker_spot.shape, book_spot.shape"
   ]
  },
  {
   "cell_type": "code",
   "execution_count": 6,
   "id": "41eb9829",
   "metadata": {},
   "outputs": [
    {
     "data": {
      "text/plain": [
       " 0    18049007\n",
       " 1     9806614\n",
       "-1     9709959\n",
       "Name: target, dtype: int64"
      ]
     },
     "execution_count": 6,
     "metadata": {},
     "output_type": "execute_result"
    }
   ],
   "source": [
    "target.target.value_counts()"
   ]
  },
  {
   "cell_type": "code",
   "execution_count": 7,
   "id": "a161f913",
   "metadata": {},
   "outputs": [
    {
     "data": {
      "text/html": [
       "<div>\n",
       "<style scoped>\n",
       "    .dataframe tbody tr th:only-of-type {\n",
       "        vertical-align: middle;\n",
       "    }\n",
       "\n",
       "    .dataframe tbody tr th {\n",
       "        vertical-align: top;\n",
       "    }\n",
       "\n",
       "    .dataframe thead th {\n",
       "        text-align: right;\n",
       "    }\n",
       "</style>\n",
       "<table border=\"1\" class=\"dataframe\">\n",
       "  <thead>\n",
       "    <tr style=\"text-align: right;\">\n",
       "      <th></th>\n",
       "      <th>local_ts</th>\n",
       "      <th>target</th>\n",
       "    </tr>\n",
       "  </thead>\n",
       "  <tbody>\n",
       "    <tr>\n",
       "      <th>3966</th>\n",
       "      <td>1679443224708626991</td>\n",
       "      <td>1</td>\n",
       "    </tr>\n",
       "    <tr>\n",
       "      <th>7727</th>\n",
       "      <td>1679443236434154496</td>\n",
       "      <td>0</td>\n",
       "    </tr>\n",
       "    <tr>\n",
       "      <th>10319</th>\n",
       "      <td>1679443250342057984</td>\n",
       "      <td>-1</td>\n",
       "    </tr>\n",
       "    <tr>\n",
       "      <th>13468</th>\n",
       "      <td>1679443264894314681</td>\n",
       "      <td>0</td>\n",
       "    </tr>\n",
       "    <tr>\n",
       "      <th>19314</th>\n",
       "      <td>1679443286528796160</td>\n",
       "      <td>1</td>\n",
       "    </tr>\n",
       "    <tr>\n",
       "      <th>...</th>\n",
       "      <td>...</td>\n",
       "      <td>...</td>\n",
       "    </tr>\n",
       "    <tr>\n",
       "      <th>37507738</th>\n",
       "      <td>1679701483764037888</td>\n",
       "      <td>0</td>\n",
       "    </tr>\n",
       "    <tr>\n",
       "      <th>37520113</th>\n",
       "      <td>1679701662131192832</td>\n",
       "      <td>0</td>\n",
       "    </tr>\n",
       "    <tr>\n",
       "      <th>37521969</th>\n",
       "      <td>1679701692057069824</td>\n",
       "      <td>-1</td>\n",
       "    </tr>\n",
       "    <tr>\n",
       "      <th>37533541</th>\n",
       "      <td>1679701885130233088</td>\n",
       "      <td>-1</td>\n",
       "    </tr>\n",
       "    <tr>\n",
       "      <th>37556964</th>\n",
       "      <td>1679702265666509568</td>\n",
       "      <td>1</td>\n",
       "    </tr>\n",
       "  </tbody>\n",
       "</table>\n",
       "<p>8899 rows × 2 columns</p>\n",
       "</div>"
      ],
      "text/plain": [
       "                     local_ts  target\n",
       "3966      1679443224708626991       1\n",
       "7727      1679443236434154496       0\n",
       "10319     1679443250342057984      -1\n",
       "13468     1679443264894314681       0\n",
       "19314     1679443286528796160       1\n",
       "...                       ...     ...\n",
       "37507738  1679701483764037888       0\n",
       "37520113  1679701662131192832       0\n",
       "37521969  1679701692057069824      -1\n",
       "37533541  1679701885130233088      -1\n",
       "37556964  1679702265666509568       1\n",
       "\n",
       "[8899 rows x 2 columns]"
      ]
     },
     "execution_count": 7,
     "metadata": {},
     "output_type": "execute_result"
    }
   ],
   "source": [
    "target[target.local_ts.duplicated()]"
   ]
  },
  {
   "cell_type": "code",
   "execution_count": 8,
   "id": "c91a96c0",
   "metadata": {},
   "outputs": [
    {
     "data": {
      "text/plain": [
       "[<matplotlib.lines.Line2D at 0x7f8f85686410>]"
      ]
     },
     "execution_count": 8,
     "metadata": {},
     "output_type": "execute_result"
    },
    {
     "data": {
      "image/png": "[encoded data removed]",
      "text/plain": [
       "<Figure size 864x432 with 1 Axes>"
      ]
     },
     "metadata": {
      "image/png": {
       "height": 373,
       "width": 723
      }
     },
     "output_type": "display_data"
    }
   ],
   "source": [
    "plt.plot(book.timestamp, book[\"asks[0].price\"])"
   ]
  },
  {
   "cell_type": "code",
   "execution_count": 9,
   "id": "eae1c202",
   "metadata": {
    "scrolled": false
   },
   "outputs": [
    {
     "data": {
      "text/plain": [
       "[<matplotlib.lines.Line2D at 0x7f8f6373f8d0>]"
      ]
     },
     "execution_count": 9,
     "metadata": {},
     "output_type": "execute_result"
    },
    {
     "data": {
      "image/png": "[encoded data removed]",
      "text/plain": [
       "<Figure size 864x432 with 1 Axes>"
      ]
     },
     "metadata": {
      "image/png": {
       "height": 373,
       "width": 723
      }
     },
     "output_type": "display_data"
    }
   ],
   "source": [
    "plt.plot(trades.local_ts, trades[\"price\"])"
   ]
  },
  {
   "cell_type": "code",
   "execution_count": 10,
   "id": "0879f0bb",
   "metadata": {},
   "outputs": [
    {
     "data": {
      "text/html": [
       "<div>\n",
       "<style scoped>\n",
       "    .dataframe tbody tr th:only-of-type {\n",
       "        vertical-align: middle;\n",
       "    }\n",
       "\n",
       "    .dataframe tbody tr th {\n",
       "        vertical-align: top;\n",
       "    }\n",
       "\n",
       "    .dataframe thead th {\n",
       "        text-align: right;\n",
       "    }\n",
       "</style>\n",
       "<table border=\"1\" class=\"dataframe\">\n",
       "  <thead>\n",
       "    <tr style=\"text-align: right;\">\n",
       "      <th></th>\n",
       "      <th>local_ts</th>\n",
       "      <th>seq</th>\n",
       "      <th>remote_ts</th>\n",
       "      <th>remote_ts2</th>\n",
       "      <th>bid_price</th>\n",
       "      <th>bid_amount</th>\n",
       "      <th>ask_price</th>\n",
       "      <th>ask_amount</th>\n",
       "    </tr>\n",
       "  </thead>\n",
       "  <tbody>\n",
       "    <tr>\n",
       "      <th>0</th>\n",
       "      <td>1679443200002269696</td>\n",
       "      <td>2664656597671</td>\n",
       "      <td>1679443199998</td>\n",
       "      <td>1679443199993</td>\n",
       "      <td>28091.1</td>\n",
       "      <td>0.885</td>\n",
       "      <td>28091.2</td>\n",
       "      <td>17.243</td>\n",
       "    </tr>\n",
       "  </tbody>\n",
       "</table>\n",
       "</div>"
      ],
      "text/plain": [
       "              local_ts            seq      remote_ts     remote_ts2  \\\n",
       "0  1679443200002269696  2664656597671  1679443199998  1679443199993   \n",
       "\n",
       "   bid_price  bid_amount  ask_price  ask_amount  \n",
       "0    28091.1       0.885    28091.2      17.243  "
      ]
     },
     "execution_count": 10,
     "metadata": {},
     "output_type": "execute_result"
    }
   ],
   "source": [
    "ticker[ticker.local_ts == target.local_ts[0]]"
   ]
  },
  {
   "cell_type": "code",
   "execution_count": 11,
   "id": "06d27c1a",
   "metadata": {},
   "outputs": [
    {
     "data": {
      "text/plain": [
       "(37565580, 37556651)"
      ]
     },
     "execution_count": 11,
     "metadata": {},
     "output_type": "execute_result"
    }
   ],
   "source": [
    "df = target.copy()\n",
    "# skip first n cause target starts before some of other data\n",
    "skip_n = 30\n",
    "# dropping 30 records from 37565580 is kinda fine...\n",
    "target_start = df[skip_n:].local_ts.min()\n",
    "assert book.timestamp.min() < target_start\n",
    "assert book_spot.timestamp.min() < target_start\n",
    "assert trades.local_ts.min() < target_start\n",
    "assert trades_spot.local_ts.min() < target_start\n",
    "assert ticker.local_ts.min() < target_start\n",
    "assert ticker_spot.local_ts.min() < target_start\n",
    "df = df[skip_n:].reset_index(drop = True)\n",
    "df = df.drop_duplicates(subset = [\"local_ts\"], keep = \"last\")\n",
    "target.shape[0], df.shape[0]"
   ]
  },
  {
   "cell_type": "markdown",
   "id": "8d636b42",
   "metadata": {},
   "source": [
    "df[\"book_imabalance\"] = None\n",
    "\n",
    "df[\"trade_imabalance\"] = None\n",
    "\n",
    "df[\"past_returns\"] = None\n",
    "\n",
    "df[\"mean_divergence\"] = None\n",
    "\n",
    "df[\"el_nonlinearities\"] = None"
   ]
  },
  {
   "cell_type": "code",
   "execution_count": 23,
   "id": "cdce328d",
   "metadata": {},
   "outputs": [
    {
     "data": {
      "text/plain": [
       "-0.9994191955858865"
      ]
     },
     "execution_count": 23,
     "metadata": {},
     "output_type": "execute_result"
    }
   ],
   "source": [
    "# before added fast merge\n",
    "ts = df.local_ts[0]\n",
    "df_slice = book[book.local_timestamp < ts]\n",
    "amax = df_slice.local_timestamp.argmax()\n",
    "row = df_slice.iloc[amax]\n",
    "\n",
    "bids_amount = row[\"bids[0].amount\"]\n",
    "asks_amount = row[\"asks[0].amount\"]\n",
    "\n",
    "(bids_amount - asks_amount) / (bids_amount + asks_amount)"
   ]
  },
  {
   "cell_type": "markdown",
   "id": "675ef561",
   "metadata": {},
   "source": [
    "(bid[0].volume - ask[0].volume)/(bid[0].volume + ask[0].volume)"
   ]
  },
  {
   "cell_type": "code",
   "execution_count": 24,
   "id": "e7facf20",
   "metadata": {},
   "outputs": [],
   "source": [
    "def add_data(df, data, cols_to_keep, timestamp = \"remote_ts\", prefix = \"_\"):\n",
    "    data = data[cols_to_keep].copy().sort_values(by = [timestamp])\n",
    "    rename_mapper = {row: prefix + row for row in cols_to_keep}\n",
    "    rename_mapper[timestamp] = \"local_ts\"\n",
    "    data = data.rename(columns = rename_mapper)\n",
    "    return pd.merge_asof(df, data, on = \"local_ts\", direction = \"backward\")\n",
    "# probably better to use machine timestamp then local_timestamp\n",
    "# maybe problems with how we wont get it in time, but prob fine\n",
    "timestamp_to_use = \"timestamp\" # \"local_timestamp\" "
   ]
  },
  {
   "cell_type": "code",
   "execution_count": 25,
   "id": "90445343",
   "metadata": {},
   "outputs": [],
   "source": [
    "df_book = add_data(df, book, [timestamp_to_use, \"asks[0].amount\", \"bids[0].amount\"]\\\n",
    "         , timestamp = timestamp_to_use, prefix = \"book_\")\n",
    "asks_amount = df_book[\"book_asks[0].amount\"].to_numpy()\n",
    "bids_amount = df_book[\"book_bids[0].amount\"].to_numpy()\n",
    "df[\"book_future_imabalance\"] = (bids_amount - asks_amount) / (bids_amount + asks_amount)\n",
    "df[\"book_future_log_imbalance_custom\"] = np.log(bids_amount/asks_amount)"
   ]
  },
  {
   "cell_type": "code",
   "execution_count": 26,
   "id": "5e598196",
   "metadata": {},
   "outputs": [],
   "source": [
    "df_book = add_data(df, book_spot, [timestamp_to_use, \"asks[0].amount\", \"bids[0].amount\"]\\\n",
    "         , timestamp = timestamp_to_use, prefix = \"book_\")\n",
    "asks_amount = df_book[\"book_asks[0].amount\"].to_numpy()\n",
    "bids_amount = df_book[\"book_bids[0].amount\"].to_numpy()\n",
    "df[\"book_spot_imabalance\"] = (bids_amount - asks_amount) / (bids_amount + asks_amount)\n",
    "df[\"book_spot_log_imbalance_custom\"] = np.log(bids_amount/asks_amount)"
   ]
  },
  {
   "cell_type": "code",
   "execution_count": 27,
   "id": "dd50b703",
   "metadata": {},
   "outputs": [
    {
     "data": {
      "text/html": [
       "<div>\n",
       "<style scoped>\n",
       "    .dataframe tbody tr th:only-of-type {\n",
       "        vertical-align: middle;\n",
       "    }\n",
       "\n",
       "    .dataframe tbody tr th {\n",
       "        vertical-align: top;\n",
       "    }\n",
       "\n",
       "    .dataframe thead th {\n",
       "        text-align: right;\n",
       "    }\n",
       "</style>\n",
       "<table border=\"1\" class=\"dataframe\">\n",
       "  <thead>\n",
       "    <tr style=\"text-align: right;\">\n",
       "      <th></th>\n",
       "      <th>local_ts</th>\n",
       "      <th>target</th>\n",
       "      <th>book_future_imabalance</th>\n",
       "      <th>book_future_log_imbalance_custom</th>\n",
       "      <th>book_spot_imabalance</th>\n",
       "      <th>book_spot_log_imbalance_custom</th>\n",
       "    </tr>\n",
       "  </thead>\n",
       "  <tbody>\n",
       "    <tr>\n",
       "      <th>37565545</th>\n",
       "      <td>1679702389831526400</td>\n",
       "      <td>0</td>\n",
       "      <td>0.026748</td>\n",
       "      <td>0.053508</td>\n",
       "      <td>0.675641</td>\n",
       "      <td>1.6421</td>\n",
       "    </tr>\n",
       "    <tr>\n",
       "      <th>37565546</th>\n",
       "      <td>1679702389831611648</td>\n",
       "      <td>0</td>\n",
       "      <td>0.026748</td>\n",
       "      <td>0.053508</td>\n",
       "      <td>0.675641</td>\n",
       "      <td>1.6421</td>\n",
       "    </tr>\n",
       "    <tr>\n",
       "      <th>37565547</th>\n",
       "      <td>1679702389904044288</td>\n",
       "      <td>0</td>\n",
       "      <td>0.044043</td>\n",
       "      <td>0.088142</td>\n",
       "      <td>0.675641</td>\n",
       "      <td>1.6421</td>\n",
       "    </tr>\n",
       "    <tr>\n",
       "      <th>37565548</th>\n",
       "      <td>1679702389957030912</td>\n",
       "      <td>0</td>\n",
       "      <td>0.040025</td>\n",
       "      <td>0.080092</td>\n",
       "      <td>0.675641</td>\n",
       "      <td>1.6421</td>\n",
       "    </tr>\n",
       "    <tr>\n",
       "      <th>37565549</th>\n",
       "      <td>1679702389960942592</td>\n",
       "      <td>0</td>\n",
       "      <td>0.040025</td>\n",
       "      <td>0.080092</td>\n",
       "      <td>0.675641</td>\n",
       "      <td>1.6421</td>\n",
       "    </tr>\n",
       "  </tbody>\n",
       "</table>\n",
       "</div>"
      ],
      "text/plain": [
       "                     local_ts  target  book_future_imabalance  \\\n",
       "37565545  1679702389831526400       0                0.026748   \n",
       "37565546  1679702389831611648       0                0.026748   \n",
       "37565547  1679702389904044288       0                0.044043   \n",
       "37565548  1679702389957030912       0                0.040025   \n",
       "37565549  1679702389960942592       0                0.040025   \n",
       "\n",
       "          book_future_log_imbalance_custom  book_spot_imabalance  \\\n",
       "37565545                          0.053508              0.675641   \n",
       "37565546                          0.053508              0.675641   \n",
       "37565547                          0.088142              0.675641   \n",
       "37565548                          0.080092              0.675641   \n",
       "37565549                          0.080092              0.675641   \n",
       "\n",
       "          book_spot_log_imbalance_custom  \n",
       "37565545                          1.6421  \n",
       "37565546                          1.6421  \n",
       "37565547                          1.6421  \n",
       "37565548                          1.6421  \n",
       "37565549                          1.6421  "
      ]
     },
     "execution_count": 27,
     "metadata": {},
     "output_type": "execute_result"
    }
   ],
   "source": [
    "df.tail()"
   ]
  },
  {
   "cell_type": "code",
   "execution_count": 28,
   "id": "e66437e2",
   "metadata": {},
   "outputs": [
    {
     "data": {
      "text/html": [
       "<div>\n",
       "<style scoped>\n",
       "    .dataframe tbody tr th:only-of-type {\n",
       "        vertical-align: middle;\n",
       "    }\n",
       "\n",
       "    .dataframe tbody tr th {\n",
       "        vertical-align: top;\n",
       "    }\n",
       "\n",
       "    .dataframe thead th {\n",
       "        text-align: right;\n",
       "    }\n",
       "</style>\n",
       "<table border=\"1\" class=\"dataframe\">\n",
       "  <thead>\n",
       "    <tr style=\"text-align: right;\">\n",
       "      <th></th>\n",
       "      <th>local_ts</th>\n",
       "      <th>seq</th>\n",
       "      <th>remote_ts</th>\n",
       "      <th>remote_ts2</th>\n",
       "      <th>price</th>\n",
       "      <th>amount</th>\n",
       "      <th>side</th>\n",
       "    </tr>\n",
       "  </thead>\n",
       "  <tbody>\n",
       "    <tr>\n",
       "      <th>0</th>\n",
       "      <td>1679443200000453376</td>\n",
       "      <td>3467110982</td>\n",
       "      <td>1679443199997</td>\n",
       "      <td>1679443199993</td>\n",
       "      <td>28091.1</td>\n",
       "      <td>0.001</td>\n",
       "      <td>S</td>\n",
       "    </tr>\n",
       "    <tr>\n",
       "      <th>1</th>\n",
       "      <td>1679443200001720832</td>\n",
       "      <td>3467110983</td>\n",
       "      <td>1679443199997</td>\n",
       "      <td>1679443199993</td>\n",
       "      <td>28091.1</td>\n",
       "      <td>0.003</td>\n",
       "      <td>S</td>\n",
       "    </tr>\n",
       "    <tr>\n",
       "      <th>2</th>\n",
       "      <td>1679443200022432256</td>\n",
       "      <td>3467110984</td>\n",
       "      <td>1679443200001</td>\n",
       "      <td>1679443199996</td>\n",
       "      <td>28091.1</td>\n",
       "      <td>0.007</td>\n",
       "      <td>S</td>\n",
       "    </tr>\n",
       "    <tr>\n",
       "      <th>3</th>\n",
       "      <td>1679443200022432406</td>\n",
       "      <td>3467110985</td>\n",
       "      <td>1679443200001</td>\n",
       "      <td>1679443199996</td>\n",
       "      <td>28091.1</td>\n",
       "      <td>0.001</td>\n",
       "      <td>S</td>\n",
       "    </tr>\n",
       "    <tr>\n",
       "      <th>4</th>\n",
       "      <td>1679443200022597888</td>\n",
       "      <td>3467110986</td>\n",
       "      <td>1679443200001</td>\n",
       "      <td>1679443199996</td>\n",
       "      <td>28091.1</td>\n",
       "      <td>0.004</td>\n",
       "      <td>S</td>\n",
       "    </tr>\n",
       "  </tbody>\n",
       "</table>\n",
       "</div>"
      ],
      "text/plain": [
       "              local_ts         seq      remote_ts     remote_ts2    price  \\\n",
       "0  1679443200000453376  3467110982  1679443199997  1679443199993  28091.1   \n",
       "1  1679443200001720832  3467110983  1679443199997  1679443199993  28091.1   \n",
       "2  1679443200022432256  3467110984  1679443200001  1679443199996  28091.1   \n",
       "3  1679443200022432406  3467110985  1679443200001  1679443199996  28091.1   \n",
       "4  1679443200022597888  3467110986  1679443200001  1679443199996  28091.1   \n",
       "\n",
       "   amount side  \n",
       "0   0.001    S  \n",
       "1   0.003    S  \n",
       "2   0.007    S  \n",
       "3   0.001    S  \n",
       "4   0.004    S  "
      ]
     },
     "execution_count": 28,
     "metadata": {},
     "output_type": "execute_result"
    }
   ],
   "source": [
    "trades.head()"
   ]
  },
  {
   "cell_type": "code",
   "execution_count": 29,
   "id": "e4c73f72",
   "metadata": {},
   "outputs": [],
   "source": [
    "def trades_period(df, trades, lookback_window = 2000):\n",
    "    lookback_window *= 1e6 # from milisec\n",
    "    trades_remote_ts = trades.remote_ts * 1e6 # from milisec\n",
    "    \n",
    "    l = np.searchsorted(trades_remote_ts + lookback_window, df.local_ts)\n",
    "    l = np.maximum(l - 1, 0)\n",
    "    r = np.searchsorted(trades_remote_ts, df.local_ts)\n",
    "    cumsum = np.cumsum(trades.amount).to_numpy()\n",
    "    \n",
    "    return cumsum[r] - cumsum[l]"
   ]
  },
  {
   "cell_type": "code",
   "execution_count": 30,
   "id": "00088d9c",
   "metadata": {},
   "outputs": [
    {
     "data": {
      "application/vnd.jupyter.widget-view+json": {
       "model_id": "db04ce328a504ecc95f895704661b69c",
       "version_major": 2,
       "version_minor": 0
      },
      "text/plain": [
       "HBox(children=(FloatProgress(value=0.0, description='trades_future', max=5.0, style=ProgressStyle(description_…"
      ]
     },
     "metadata": {},
     "output_type": "display_data"
    },
    {
     "name": "stdout",
     "output_type": "stream",
     "text": [
      "\n"
     ]
    },
    {
     "data": {
      "application/vnd.jupyter.widget-view+json": {
       "model_id": "da9f5f530a5f4ea4b639d352d681e216",
       "version_major": 2,
       "version_minor": 0
      },
      "text/plain": [
       "HBox(children=(FloatProgress(value=0.0, description='trades_spot', max=5.0, style=ProgressStyle(description_wi…"
      ]
     },
     "metadata": {},
     "output_type": "display_data"
    },
    {
     "name": "stdout",
     "output_type": "stream",
     "text": [
      "\n"
     ]
    }
   ],
   "source": [
    "trades_types = {\"trades_future\": trades, \"trades_spot\": trades_spot}\n",
    "for tt_type in trades_types:\n",
    "    for window_ms in tqdm([100, 250, 500, 1000, 2000], desc = tt_type):\n",
    "        tt = trades_types[tt_type]\n",
    "        trades_buy = trades_period(df, tt[tt.side == \"B\"], lookback_window = window_ms)\n",
    "        trades_sell = trades_period(df, tt[tt.side == \"S\"], lookback_window = window_ms)\n",
    "        df[f\"{tt_type}_imb_{window_ms}ms\"] = trades_buy - trades_sell"
   ]
  },
  {
   "cell_type": "code",
   "execution_count": 31,
   "id": "509f1f43",
   "metadata": {},
   "outputs": [
    {
     "data": {
      "text/html": [
       "<div>\n",
       "<style scoped>\n",
       "    .dataframe tbody tr th:only-of-type {\n",
       "        vertical-align: middle;\n",
       "    }\n",
       "\n",
       "    .dataframe tbody tr th {\n",
       "        vertical-align: top;\n",
       "    }\n",
       "\n",
       "    .dataframe thead th {\n",
       "        text-align: right;\n",
       "    }\n",
       "</style>\n",
       "<table border=\"1\" class=\"dataframe\">\n",
       "  <thead>\n",
       "    <tr style=\"text-align: right;\">\n",
       "      <th></th>\n",
       "      <th>local_ts</th>\n",
       "      <th>target</th>\n",
       "      <th>book_future_imabalance</th>\n",
       "      <th>book_future_log_imbalance_custom</th>\n",
       "      <th>book_spot_imabalance</th>\n",
       "      <th>book_spot_log_imbalance_custom</th>\n",
       "      <th>trades_future_imb_100ms</th>\n",
       "      <th>trades_future_imb_250ms</th>\n",
       "      <th>trades_future_imb_500ms</th>\n",
       "      <th>trades_future_imb_1000ms</th>\n",
       "      <th>trades_future_imb_2000ms</th>\n",
       "      <th>trades_spot_imb_100ms</th>\n",
       "      <th>trades_spot_imb_250ms</th>\n",
       "      <th>trades_spot_imb_500ms</th>\n",
       "      <th>trades_spot_imb_1000ms</th>\n",
       "      <th>trades_spot_imb_2000ms</th>\n",
       "    </tr>\n",
       "  </thead>\n",
       "  <tbody>\n",
       "    <tr>\n",
       "      <th>0</th>\n",
       "      <td>1679443205344112384</td>\n",
       "      <td>-1</td>\n",
       "      <td>-0.999419</td>\n",
       "      <td>-8.143953</td>\n",
       "      <td>0.84</td>\n",
       "      <td>2.442347</td>\n",
       "      <td>0.117</td>\n",
       "      <td>0.117</td>\n",
       "      <td>0.117</td>\n",
       "      <td>0.117</td>\n",
       "      <td>0.117</td>\n",
       "      <td>-0.15459</td>\n",
       "      <td>-0.17668</td>\n",
       "      <td>-0.16682</td>\n",
       "      <td>-1.14067</td>\n",
       "      <td>-1.31537</td>\n",
       "    </tr>\n",
       "    <tr>\n",
       "      <th>1</th>\n",
       "      <td>1679443205349040896</td>\n",
       "      <td>-1</td>\n",
       "      <td>-0.999419</td>\n",
       "      <td>-8.143953</td>\n",
       "      <td>0.84</td>\n",
       "      <td>2.442347</td>\n",
       "      <td>0.865</td>\n",
       "      <td>0.865</td>\n",
       "      <td>0.865</td>\n",
       "      <td>0.865</td>\n",
       "      <td>0.865</td>\n",
       "      <td>-0.15459</td>\n",
       "      <td>-0.17668</td>\n",
       "      <td>-0.16682</td>\n",
       "      <td>-1.14067</td>\n",
       "      <td>-1.40737</td>\n",
       "    </tr>\n",
       "    <tr>\n",
       "      <th>2</th>\n",
       "      <td>1679443205350975232</td>\n",
       "      <td>-1</td>\n",
       "      <td>-0.999419</td>\n",
       "      <td>-8.143953</td>\n",
       "      <td>0.84</td>\n",
       "      <td>2.442347</td>\n",
       "      <td>0.865</td>\n",
       "      <td>0.865</td>\n",
       "      <td>0.865</td>\n",
       "      <td>0.865</td>\n",
       "      <td>0.865</td>\n",
       "      <td>-0.15459</td>\n",
       "      <td>-0.17668</td>\n",
       "      <td>-0.16682</td>\n",
       "      <td>-1.14067</td>\n",
       "      <td>-1.40737</td>\n",
       "    </tr>\n",
       "    <tr>\n",
       "      <th>3</th>\n",
       "      <td>1679443205352709632</td>\n",
       "      <td>-1</td>\n",
       "      <td>-0.999344</td>\n",
       "      <td>-8.021585</td>\n",
       "      <td>0.84</td>\n",
       "      <td>2.442347</td>\n",
       "      <td>1.952</td>\n",
       "      <td>1.952</td>\n",
       "      <td>1.952</td>\n",
       "      <td>1.952</td>\n",
       "      <td>1.952</td>\n",
       "      <td>-0.15497</td>\n",
       "      <td>-0.17668</td>\n",
       "      <td>-0.16682</td>\n",
       "      <td>-1.13662</td>\n",
       "      <td>-1.40737</td>\n",
       "    </tr>\n",
       "    <tr>\n",
       "      <th>4</th>\n",
       "      <td>1679443205356733140</td>\n",
       "      <td>-1</td>\n",
       "      <td>-0.999344</td>\n",
       "      <td>-8.021585</td>\n",
       "      <td>0.84</td>\n",
       "      <td>2.442347</td>\n",
       "      <td>1.952</td>\n",
       "      <td>1.952</td>\n",
       "      <td>1.952</td>\n",
       "      <td>1.952</td>\n",
       "      <td>1.952</td>\n",
       "      <td>-0.15497</td>\n",
       "      <td>-0.17668</td>\n",
       "      <td>-0.16682</td>\n",
       "      <td>-1.13662</td>\n",
       "      <td>-1.40737</td>\n",
       "    </tr>\n",
       "  </tbody>\n",
       "</table>\n",
       "</div>"
      ],
      "text/plain": [
       "              local_ts  target  book_future_imabalance  \\\n",
       "0  1679443205344112384      -1               -0.999419   \n",
       "1  1679443205349040896      -1               -0.999419   \n",
       "2  1679443205350975232      -1               -0.999419   \n",
       "3  1679443205352709632      -1               -0.999344   \n",
       "4  1679443205356733140      -1               -0.999344   \n",
       "\n",
       "   book_future_log_imbalance_custom  book_spot_imabalance  \\\n",
       "0                         -8.143953                  0.84   \n",
       "1                         -8.143953                  0.84   \n",
       "2                         -8.143953                  0.84   \n",
       "3                         -8.021585                  0.84   \n",
       "4                         -8.021585                  0.84   \n",
       "\n",
       "   book_spot_log_imbalance_custom  trades_future_imb_100ms  \\\n",
       "0                        2.442347                    0.117   \n",
       "1                        2.442347                    0.865   \n",
       "2                        2.442347                    0.865   \n",
       "3                        2.442347                    1.952   \n",
       "4                        2.442347                    1.952   \n",
       "\n",
       "   trades_future_imb_250ms  trades_future_imb_500ms  trades_future_imb_1000ms  \\\n",
       "0                    0.117                    0.117                     0.117   \n",
       "1                    0.865                    0.865                     0.865   \n",
       "2                    0.865                    0.865                     0.865   \n",
       "3                    1.952                    1.952                     1.952   \n",
       "4                    1.952                    1.952                     1.952   \n",
       "\n",
       "   trades_future_imb_2000ms  trades_spot_imb_100ms  trades_spot_imb_250ms  \\\n",
       "0                     0.117               -0.15459               -0.17668   \n",
       "1                     0.865               -0.15459               -0.17668   \n",
       "2                     0.865               -0.15459               -0.17668   \n",
       "3                     1.952               -0.15497               -0.17668   \n",
       "4                     1.952               -0.15497               -0.17668   \n",
       "\n",
       "   trades_spot_imb_500ms  trades_spot_imb_1000ms  trades_spot_imb_2000ms  \n",
       "0               -0.16682                -1.14067                -1.31537  \n",
       "1               -0.16682                -1.14067                -1.40737  \n",
       "2               -0.16682                -1.14067                -1.40737  \n",
       "3               -0.16682                -1.13662                -1.40737  \n",
       "4               -0.16682                -1.13662                -1.40737  "
      ]
     },
     "execution_count": 31,
     "metadata": {},
     "output_type": "execute_result"
    }
   ],
   "source": [
    "df.head()"
   ]
  },
  {
   "cell_type": "code",
   "execution_count": 32,
   "id": "a9691448",
   "metadata": {},
   "outputs": [
    {
     "data": {
      "text/plain": [
       "Text(0.5, 1.0, 'Power of leverage 1000ms')"
      ]
     },
     "execution_count": 32,
     "metadata": {},
     "output_type": "execute_result"
    },
    {
     "data": {
      "image/png": "[encoded data removed]",
      "text/plain": [
       "<Figure size 864x432 with 1 Axes>"
      ]
     },
     "metadata": {
      "image/png": {
       "height": 388,
       "width": 724
      }
     },
     "output_type": "display_data"
    }
   ],
   "source": [
    "plt.plot(df.local_ts, df.trades_future_imb_1000ms, label = \"futures\")\n",
    "plt.plot(df.local_ts, df.trades_spot_imb_1000ms, label = \"spot\")\n",
    "plt.legend(loc = 'upper right')\n",
    "plt.title(\"Power of leverage 1000ms\")"
   ]
  },
  {
   "cell_type": "code",
   "execution_count": 33,
   "id": "6b280cc5",
   "metadata": {},
   "outputs": [],
   "source": [
    "def trades_price_avg_lookback(df, trades, time_horizon = 5000, lookback_window = 50):\n",
    "    time_horizon *= 1e6 # from milisec\n",
    "    lookback_window *= 1e6 # from milisec\n",
    "    trades_remote_ts = trades.remote_ts * 1e6 + time_horizon # from milisec\n",
    "\n",
    "    l = np.searchsorted(trades_remote_ts + lookback_window, df.local_ts)\n",
    "    l = np.maximum(l - 1, 0)\n",
    "    r = np.searchsorted(trades_remote_ts, df.local_ts)\n",
    "    cumsum = np.cumsum(trades.price).to_numpy()\n",
    "    nums = np.arange(trades.shape[0])\n",
    "\n",
    "    price_sum = cumsum[r] - cumsum[l]\n",
    "    price_num = nums[r] - nums[l]\n",
    "    return price_sum / price_num"
   ]
  },
  {
   "cell_type": "code",
   "execution_count": 34,
   "id": "7311ca72",
   "metadata": {},
   "outputs": [
    {
     "data": {
      "application/vnd.jupyter.widget-view+json": {
       "model_id": "b95d4cbe4ee24182b678e1318156467d",
       "version_major": 2,
       "version_minor": 0
      },
      "text/plain": [
       "HBox(children=(FloatProgress(value=0.0, description='trades_future', max=5.0, style=ProgressStyle(description_…"
      ]
     },
     "metadata": {},
     "output_type": "display_data"
    },
    {
     "name": "stdout",
     "output_type": "stream",
     "text": [
      "\n"
     ]
    },
    {
     "data": {
      "application/vnd.jupyter.widget-view+json": {
       "model_id": "9c8949abe7164463a374dacb4aa772a3",
       "version_major": 2,
       "version_minor": 0
      },
      "text/plain": [
       "HBox(children=(FloatProgress(value=0.0, description='trades_spot', max=5.0, style=ProgressStyle(description_wi…"
      ]
     },
     "metadata": {},
     "output_type": "display_data"
    },
    {
     "name": "stdout",
     "output_type": "stream",
     "text": [
      "\n"
     ]
    }
   ],
   "source": [
    "# ticker_types = {\"ticker_future\": ticker, \"ticker_spot\": ticker_spot} \n",
    "# used trades as in paper\n",
    "for tt_type in trades_types:\n",
    "    for window_ms in tqdm([100, 250, 500, 1000, 2000], desc = tt_type):\n",
    "        tt = trades_types[tt_type]\n",
    "        price_now = trades_price_avg_lookback(df, tt, time_horizon = 0)\n",
    "        price_past = trades_price_avg_lookback(df, tt, time_horizon = window_ms)\n",
    "        df[f\"{tt_type}_past_returns_{window_ms}ms\"] = (price_now / price_past - 1) * 1000 "
   ]
  },
  {
   "cell_type": "code",
   "execution_count": 35,
   "id": "714e8680",
   "metadata": {},
   "outputs": [
    {
     "data": {
      "text/html": [
       "<div>\n",
       "<style scoped>\n",
       "    .dataframe tbody tr th:only-of-type {\n",
       "        vertical-align: middle;\n",
       "    }\n",
       "\n",
       "    .dataframe tbody tr th {\n",
       "        vertical-align: top;\n",
       "    }\n",
       "\n",
       "    .dataframe thead th {\n",
       "        text-align: right;\n",
       "    }\n",
       "</style>\n",
       "<table border=\"1\" class=\"dataframe\">\n",
       "  <thead>\n",
       "    <tr style=\"text-align: right;\">\n",
       "      <th></th>\n",
       "      <th>local_ts</th>\n",
       "      <th>target</th>\n",
       "      <th>book_future_imabalance</th>\n",
       "      <th>book_future_log_imbalance_custom</th>\n",
       "      <th>book_spot_imabalance</th>\n",
       "      <th>book_spot_log_imbalance_custom</th>\n",
       "      <th>trades_future_imb_100ms</th>\n",
       "      <th>trades_future_imb_250ms</th>\n",
       "      <th>trades_future_imb_500ms</th>\n",
       "      <th>trades_future_imb_1000ms</th>\n",
       "      <th>trades_future_imb_2000ms</th>\n",
       "      <th>trades_spot_imb_100ms</th>\n",
       "      <th>trades_spot_imb_250ms</th>\n",
       "      <th>trades_spot_imb_500ms</th>\n",
       "      <th>trades_spot_imb_1000ms</th>\n",
       "      <th>trades_spot_imb_2000ms</th>\n",
       "      <th>trades_future_past_returns_100ms</th>\n",
       "      <th>trades_future_past_returns_250ms</th>\n",
       "      <th>trades_future_past_returns_500ms</th>\n",
       "      <th>trades_future_past_returns_1000ms</th>\n",
       "      <th>trades_future_past_returns_2000ms</th>\n",
       "      <th>trades_spot_past_returns_100ms</th>\n",
       "      <th>trades_spot_past_returns_250ms</th>\n",
       "      <th>trades_spot_past_returns_500ms</th>\n",
       "      <th>trades_spot_past_returns_1000ms</th>\n",
       "      <th>trades_spot_past_returns_2000ms</th>\n",
       "    </tr>\n",
       "  </thead>\n",
       "  <tbody>\n",
       "    <tr>\n",
       "      <th>0</th>\n",
       "      <td>1679443205344112384</td>\n",
       "      <td>-1</td>\n",
       "      <td>-0.999419</td>\n",
       "      <td>-8.143953</td>\n",
       "      <td>0.84</td>\n",
       "      <td>2.442347</td>\n",
       "      <td>0.117</td>\n",
       "      <td>0.117</td>\n",
       "      <td>0.117</td>\n",
       "      <td>0.117</td>\n",
       "      <td>0.117</td>\n",
       "      <td>-0.15459</td>\n",
       "      <td>-0.17668</td>\n",
       "      <td>-0.16682</td>\n",
       "      <td>-1.14067</td>\n",
       "      <td>-1.31537</td>\n",
       "      <td>0.0</td>\n",
       "      <td>0.0</td>\n",
       "      <td>0.0</td>\n",
       "      <td>0.0</td>\n",
       "      <td>0.0</td>\n",
       "      <td>-0.021526</td>\n",
       "      <td>-0.066921</td>\n",
       "      <td>0.003301</td>\n",
       "      <td>-0.081830</td>\n",
       "      <td>-0.079251</td>\n",
       "    </tr>\n",
       "    <tr>\n",
       "      <th>1</th>\n",
       "      <td>1679443205349040896</td>\n",
       "      <td>-1</td>\n",
       "      <td>-0.999419</td>\n",
       "      <td>-8.143953</td>\n",
       "      <td>0.84</td>\n",
       "      <td>2.442347</td>\n",
       "      <td>0.865</td>\n",
       "      <td>0.865</td>\n",
       "      <td>0.865</td>\n",
       "      <td>0.865</td>\n",
       "      <td>0.865</td>\n",
       "      <td>-0.15459</td>\n",
       "      <td>-0.17668</td>\n",
       "      <td>-0.16682</td>\n",
       "      <td>-1.14067</td>\n",
       "      <td>-1.40737</td>\n",
       "      <td>0.0</td>\n",
       "      <td>0.0</td>\n",
       "      <td>0.0</td>\n",
       "      <td>0.0</td>\n",
       "      <td>0.0</td>\n",
       "      <td>0.007828</td>\n",
       "      <td>-0.037569</td>\n",
       "      <td>0.032656</td>\n",
       "      <td>-0.052478</td>\n",
       "      <td>-0.070570</td>\n",
       "    </tr>\n",
       "    <tr>\n",
       "      <th>2</th>\n",
       "      <td>1679443205350975232</td>\n",
       "      <td>-1</td>\n",
       "      <td>-0.999419</td>\n",
       "      <td>-8.143953</td>\n",
       "      <td>0.84</td>\n",
       "      <td>2.442347</td>\n",
       "      <td>0.865</td>\n",
       "      <td>0.865</td>\n",
       "      <td>0.865</td>\n",
       "      <td>0.865</td>\n",
       "      <td>0.865</td>\n",
       "      <td>-0.15459</td>\n",
       "      <td>-0.17668</td>\n",
       "      <td>-0.16682</td>\n",
       "      <td>-1.14067</td>\n",
       "      <td>-1.40737</td>\n",
       "      <td>0.0</td>\n",
       "      <td>0.0</td>\n",
       "      <td>0.0</td>\n",
       "      <td>0.0</td>\n",
       "      <td>0.0</td>\n",
       "      <td>0.007828</td>\n",
       "      <td>-0.037569</td>\n",
       "      <td>0.032656</td>\n",
       "      <td>-0.052478</td>\n",
       "      <td>-0.070570</td>\n",
       "    </tr>\n",
       "    <tr>\n",
       "      <th>3</th>\n",
       "      <td>1679443205352709632</td>\n",
       "      <td>-1</td>\n",
       "      <td>-0.999344</td>\n",
       "      <td>-8.021585</td>\n",
       "      <td>0.84</td>\n",
       "      <td>2.442347</td>\n",
       "      <td>1.952</td>\n",
       "      <td>1.952</td>\n",
       "      <td>1.952</td>\n",
       "      <td>1.952</td>\n",
       "      <td>1.952</td>\n",
       "      <td>-0.15497</td>\n",
       "      <td>-0.17668</td>\n",
       "      <td>-0.16682</td>\n",
       "      <td>-1.13662</td>\n",
       "      <td>-1.40737</td>\n",
       "      <td>0.0</td>\n",
       "      <td>0.0</td>\n",
       "      <td>0.0</td>\n",
       "      <td>0.0</td>\n",
       "      <td>0.0</td>\n",
       "      <td>0.010674</td>\n",
       "      <td>-0.037569</td>\n",
       "      <td>0.032656</td>\n",
       "      <td>-0.034195</td>\n",
       "      <td>-0.070570</td>\n",
       "    </tr>\n",
       "    <tr>\n",
       "      <th>4</th>\n",
       "      <td>1679443205356733140</td>\n",
       "      <td>-1</td>\n",
       "      <td>-0.999344</td>\n",
       "      <td>-8.021585</td>\n",
       "      <td>0.84</td>\n",
       "      <td>2.442347</td>\n",
       "      <td>1.952</td>\n",
       "      <td>1.952</td>\n",
       "      <td>1.952</td>\n",
       "      <td>1.952</td>\n",
       "      <td>1.952</td>\n",
       "      <td>-0.15497</td>\n",
       "      <td>-0.17668</td>\n",
       "      <td>-0.16682</td>\n",
       "      <td>-1.13662</td>\n",
       "      <td>-1.40737</td>\n",
       "      <td>0.0</td>\n",
       "      <td>0.0</td>\n",
       "      <td>0.0</td>\n",
       "      <td>0.0</td>\n",
       "      <td>0.0</td>\n",
       "      <td>0.010674</td>\n",
       "      <td>-0.037569</td>\n",
       "      <td>0.032656</td>\n",
       "      <td>-0.034195</td>\n",
       "      <td>-0.070570</td>\n",
       "    </tr>\n",
       "  </tbody>\n",
       "</table>\n",
       "</div>"
      ],
      "text/plain": [
       "              local_ts  target  book_future_imabalance  \\\n",
       "0  1679443205344112384      -1               -0.999419   \n",
       "1  1679443205349040896      -1               -0.999419   \n",
       "2  1679443205350975232      -1               -0.999419   \n",
       "3  1679443205352709632      -1               -0.999344   \n",
       "4  1679443205356733140      -1               -0.999344   \n",
       "\n",
       "   book_future_log_imbalance_custom  book_spot_imabalance  \\\n",
       "0                         -8.143953                  0.84   \n",
       "1                         -8.143953                  0.84   \n",
       "2                         -8.143953                  0.84   \n",
       "3                         -8.021585                  0.84   \n",
       "4                         -8.021585                  0.84   \n",
       "\n",
       "   book_spot_log_imbalance_custom  trades_future_imb_100ms  \\\n",
       "0                        2.442347                    0.117   \n",
       "1                        2.442347                    0.865   \n",
       "2                        2.442347                    0.865   \n",
       "3                        2.442347                    1.952   \n",
       "4                        2.442347                    1.952   \n",
       "\n",
       "   trades_future_imb_250ms  trades_future_imb_500ms  trades_future_imb_1000ms  \\\n",
       "0                    0.117                    0.117                     0.117   \n",
       "1                    0.865                    0.865                     0.865   \n",
       "2                    0.865                    0.865                     0.865   \n",
       "3                    1.952                    1.952                     1.952   \n",
       "4                    1.952                    1.952                     1.952   \n",
       "\n",
       "   trades_future_imb_2000ms  trades_spot_imb_100ms  trades_spot_imb_250ms  \\\n",
       "0                     0.117               -0.15459               -0.17668   \n",
       "1                     0.865               -0.15459               -0.17668   \n",
       "2                     0.865               -0.15459               -0.17668   \n",
       "3                     1.952               -0.15497               -0.17668   \n",
       "4                     1.952               -0.15497               -0.17668   \n",
       "\n",
       "   trades_spot_imb_500ms  trades_spot_imb_1000ms  trades_spot_imb_2000ms  \\\n",
       "0               -0.16682                -1.14067                -1.31537   \n",
       "1               -0.16682                -1.14067                -1.40737   \n",
       "2               -0.16682                -1.14067                -1.40737   \n",
       "3               -0.16682                -1.13662                -1.40737   \n",
       "4               -0.16682                -1.13662                -1.40737   \n",
       "\n",
       "   trades_future_past_returns_100ms  trades_future_past_returns_250ms  \\\n",
       "0                               0.0                               0.0   \n",
       "1                               0.0                               0.0   \n",
       "2                               0.0                               0.0   \n",
       "3                               0.0                               0.0   \n",
       "4                               0.0                               0.0   \n",
       "\n",
       "   trades_future_past_returns_500ms  trades_future_past_returns_1000ms  \\\n",
       "0                               0.0                                0.0   \n",
       "1                               0.0                                0.0   \n",
       "2                               0.0                                0.0   \n",
       "3                               0.0                                0.0   \n",
       "4                               0.0                                0.0   \n",
       "\n",
       "   trades_future_past_returns_2000ms  trades_spot_past_returns_100ms  \\\n",
       "0                                0.0                       -0.021526   \n",
       "1                                0.0                        0.007828   \n",
       "2                                0.0                        0.007828   \n",
       "3                                0.0                        0.010674   \n",
       "4                                0.0                        0.010674   \n",
       "\n",
       "   trades_spot_past_returns_250ms  trades_spot_past_returns_500ms  \\\n",
       "0                       -0.066921                        0.003301   \n",
       "1                       -0.037569                        0.032656   \n",
       "2                       -0.037569                        0.032656   \n",
       "3                       -0.037569                        0.032656   \n",
       "4                       -0.037569                        0.032656   \n",
       "\n",
       "   trades_spot_past_returns_1000ms  trades_spot_past_returns_2000ms  \n",
       "0                        -0.081830                        -0.079251  \n",
       "1                        -0.052478                        -0.070570  \n",
       "2                        -0.052478                        -0.070570  \n",
       "3                        -0.034195                        -0.070570  \n",
       "4                        -0.034195                        -0.070570  "
      ]
     },
     "execution_count": 35,
     "metadata": {},
     "output_type": "execute_result"
    }
   ],
   "source": [
    "df.head()"
   ]
  },
  {
   "cell_type": "code",
   "execution_count": 36,
   "id": "8d2bf526",
   "metadata": {},
   "outputs": [],
   "source": [
    "def price_sets(trades, time_sets, lookback_window = 50 * 1e6):\n",
    "    trades_remote_ts = trades.remote_ts * 1e6 # from milisec\n",
    "\n",
    "    l = np.searchsorted(trades_remote_ts + lookback_window, time_sets)\n",
    "    l = np.maximum(l - 1, 0)\n",
    "    r = np.searchsorted(trades_remote_ts, time_sets)\n",
    "    cumsum = np.cumsum(trades.price).to_numpy()\n",
    "    nums = np.arange(trades.shape[0])\n",
    "\n",
    "    price_sum = cumsum[r] - cumsum[l]\n",
    "    price_num = nums[r] - nums[l]\n",
    "    return price_sum / price_num\n",
    "\n",
    "def rolling_mean(df, time_sets, rolling_price, time_horizon = 5000):\n",
    "    time_horizon *= 1e6 # from milisec\n",
    "\n",
    "    l = np.searchsorted(time_sets + time_horizon, df.local_ts)\n",
    "    l = np.maximum(l - 1, 0)\n",
    "    r = np.searchsorted(time_sets, df.local_ts)\n",
    "    cumsum = np.cumsum(rolling_price)\n",
    "    nums = np.arange(rolling_price.shape[0])\n",
    "\n",
    "    price_sum = cumsum[r] - cumsum[l]\n",
    "    price_num = nums[r] - nums[l]\n",
    "    return price_sum / price_num"
   ]
  },
  {
   "cell_type": "code",
   "execution_count": 37,
   "id": "5f084fdf",
   "metadata": {},
   "outputs": [],
   "source": [
    "def d (price_1, price_2):\n",
    "    return (price_1 / price_2 - 1) * 10000\n",
    "def DIV(df, trades_market_1, trades_market_2, time_horizon = 5000, lookback_window = 50):\n",
    "    price_now_1 = trades_price_avg_lookback(df, trades_market_1\\\n",
    "                                            , time_horizon = 0, lookback_window = lookback_window)\n",
    "    price_now_2 = trades_price_avg_lookback(df, trades_market_2\\\n",
    "                                            , time_horizon = 0, lookback_window = lookback_window)\n",
    "    \n",
    "    d_now = d(price_now_1, price_now_2)\n",
    "    \n",
    "    # price_rolling_1 = trades_price_avg_lookback(df, trades_market_1\\\n",
    "    #                                        , time_horizon = 0, lookback_window = time_horizon)\n",
    "    # price_rolling_2 = trades_price_avg_lookback(df, trades_market_2\\\n",
    "    #                                        , time_horizon = 0, lookback_window = time_horizon)\n",
    "    \n",
    "    # print(\"prices_now_done\")\n",
    "    \n",
    "    trades_market_1 = trades\n",
    "    trades_market_2 = trades_spot\n",
    "    start = min(trades_market_1.remote_ts.min(), trades_market_2.remote_ts.min()) * 1e6\n",
    "    end   = max(trades_market_1.remote_ts.max(), trades_market_2.remote_ts.max()) * 1e6\n",
    "    lookback_window *= 1e6\n",
    "    time_sets = start + (np.arange(np.floor((end - start) / lookback_window)) + 1) * lookback_window\n",
    "    \n",
    "    trades_sets_1 = price_sets(trades_market_1, time_sets, lookback_window = lookback_window)\n",
    "    trades_sets_2 = price_sets(trades_market_2, time_sets, lookback_window = lookback_window)\n",
    "    \n",
    "    # print(\"trades_sets_done\")\n",
    "    \n",
    "    rolling_price = d(trades_sets_1, trades_sets_2)\n",
    "    d_rolling = rolling_mean(df, time_sets, rolling_price, time_horizon = time_horizon)\n",
    "    \n",
    "    return d_now - d_rolling"
   ]
  },
  {
   "cell_type": "code",
   "execution_count": 38,
   "id": "7fdc28c9",
   "metadata": {},
   "outputs": [
    {
     "data": {
      "application/vnd.jupyter.widget-view+json": {
       "model_id": "d9a4fde543044f87ab3710d5bcb82dc6",
       "version_major": 2,
       "version_minor": 0
      },
      "text/plain": [
       "HBox(children=(FloatProgress(value=0.0, max=4.0), HTML(value='')))"
      ]
     },
     "metadata": {},
     "output_type": "display_data"
    },
    {
     "name": "stdout",
     "output_type": "stream",
     "text": [
      "prices_now_done\n",
      "trades_sets_done\n",
      "prices_now_done\n",
      "trades_sets_done\n",
      "prices_now_done\n",
      "trades_sets_done\n",
      "prices_now_done\n",
      "trades_sets_done\n",
      "\n"
     ]
    }
   ],
   "source": [
    "for window_s in tqdm([5, 10, 20, 40]):\n",
    "    window_ms = window_s * 1e3\n",
    "    df[f\"trades_div_{round(window_ms)}ms\"] = DIV(df, trades, trades_spot, time_horizon = window_ms)"
   ]
  },
  {
   "cell_type": "code",
   "execution_count": 39,
   "id": "45749276",
   "metadata": {},
   "outputs": [
    {
     "data": {
      "text/html": [
       "<div>\n",
       "<style scoped>\n",
       "    .dataframe tbody tr th:only-of-type {\n",
       "        vertical-align: middle;\n",
       "    }\n",
       "\n",
       "    .dataframe tbody tr th {\n",
       "        vertical-align: top;\n",
       "    }\n",
       "\n",
       "    .dataframe thead th {\n",
       "        text-align: right;\n",
       "    }\n",
       "</style>\n",
       "<table border=\"1\" class=\"dataframe\">\n",
       "  <thead>\n",
       "    <tr style=\"text-align: right;\">\n",
       "      <th></th>\n",
       "      <th>local_ts</th>\n",
       "      <th>target</th>\n",
       "      <th>book_future_imabalance</th>\n",
       "      <th>book_future_log_imbalance_custom</th>\n",
       "      <th>book_spot_imabalance</th>\n",
       "      <th>book_spot_log_imbalance_custom</th>\n",
       "      <th>trades_future_imb_100ms</th>\n",
       "      <th>trades_future_imb_250ms</th>\n",
       "      <th>trades_future_imb_500ms</th>\n",
       "      <th>trades_future_imb_1000ms</th>\n",
       "      <th>trades_future_imb_2000ms</th>\n",
       "      <th>trades_spot_imb_100ms</th>\n",
       "      <th>trades_spot_imb_250ms</th>\n",
       "      <th>trades_spot_imb_500ms</th>\n",
       "      <th>trades_spot_imb_1000ms</th>\n",
       "      <th>trades_spot_imb_2000ms</th>\n",
       "      <th>trades_future_past_returns_100ms</th>\n",
       "      <th>trades_future_past_returns_250ms</th>\n",
       "      <th>trades_future_past_returns_500ms</th>\n",
       "      <th>trades_future_past_returns_1000ms</th>\n",
       "      <th>trades_future_past_returns_2000ms</th>\n",
       "      <th>trades_spot_past_returns_100ms</th>\n",
       "      <th>trades_spot_past_returns_250ms</th>\n",
       "      <th>trades_spot_past_returns_500ms</th>\n",
       "      <th>trades_spot_past_returns_1000ms</th>\n",
       "      <th>trades_spot_past_returns_2000ms</th>\n",
       "      <th>trades_div_5000.0ms</th>\n",
       "      <th>trades_div_10000.0ms</th>\n",
       "      <th>trades_div_20000.0ms</th>\n",
       "      <th>trades_div_40000.0ms</th>\n",
       "    </tr>\n",
       "  </thead>\n",
       "  <tbody>\n",
       "    <tr>\n",
       "      <th>0</th>\n",
       "      <td>1679443205344112384</td>\n",
       "      <td>-1</td>\n",
       "      <td>-0.999419</td>\n",
       "      <td>-8.143953</td>\n",
       "      <td>0.84</td>\n",
       "      <td>2.442347</td>\n",
       "      <td>0.117</td>\n",
       "      <td>0.117</td>\n",
       "      <td>0.117</td>\n",
       "      <td>0.117</td>\n",
       "      <td>0.117</td>\n",
       "      <td>-0.15459</td>\n",
       "      <td>-0.17668</td>\n",
       "      <td>-0.16682</td>\n",
       "      <td>-1.14067</td>\n",
       "      <td>-1.31537</td>\n",
       "      <td>0.0</td>\n",
       "      <td>0.0</td>\n",
       "      <td>0.0</td>\n",
       "      <td>0.0</td>\n",
       "      <td>0.0</td>\n",
       "      <td>-0.021526</td>\n",
       "      <td>-0.066921</td>\n",
       "      <td>0.003301</td>\n",
       "      <td>-0.081830</td>\n",
       "      <td>-0.079251</td>\n",
       "      <td>0.571793</td>\n",
       "      <td>0.567035</td>\n",
       "      <td>0.567035</td>\n",
       "      <td>0.567035</td>\n",
       "    </tr>\n",
       "    <tr>\n",
       "      <th>1</th>\n",
       "      <td>1679443205349040896</td>\n",
       "      <td>-1</td>\n",
       "      <td>-0.999419</td>\n",
       "      <td>-8.143953</td>\n",
       "      <td>0.84</td>\n",
       "      <td>2.442347</td>\n",
       "      <td>0.865</td>\n",
       "      <td>0.865</td>\n",
       "      <td>0.865</td>\n",
       "      <td>0.865</td>\n",
       "      <td>0.865</td>\n",
       "      <td>-0.15459</td>\n",
       "      <td>-0.17668</td>\n",
       "      <td>-0.16682</td>\n",
       "      <td>-1.14067</td>\n",
       "      <td>-1.40737</td>\n",
       "      <td>0.0</td>\n",
       "      <td>0.0</td>\n",
       "      <td>0.0</td>\n",
       "      <td>0.0</td>\n",
       "      <td>0.0</td>\n",
       "      <td>0.007828</td>\n",
       "      <td>-0.037569</td>\n",
       "      <td>0.032656</td>\n",
       "      <td>-0.052478</td>\n",
       "      <td>-0.070570</td>\n",
       "      <td>0.280028</td>\n",
       "      <td>0.272579</td>\n",
       "      <td>0.272579</td>\n",
       "      <td>0.272579</td>\n",
       "    </tr>\n",
       "    <tr>\n",
       "      <th>2</th>\n",
       "      <td>1679443205350975232</td>\n",
       "      <td>-1</td>\n",
       "      <td>-0.999419</td>\n",
       "      <td>-8.143953</td>\n",
       "      <td>0.84</td>\n",
       "      <td>2.442347</td>\n",
       "      <td>0.865</td>\n",
       "      <td>0.865</td>\n",
       "      <td>0.865</td>\n",
       "      <td>0.865</td>\n",
       "      <td>0.865</td>\n",
       "      <td>-0.15459</td>\n",
       "      <td>-0.17668</td>\n",
       "      <td>-0.16682</td>\n",
       "      <td>-1.14067</td>\n",
       "      <td>-1.40737</td>\n",
       "      <td>0.0</td>\n",
       "      <td>0.0</td>\n",
       "      <td>0.0</td>\n",
       "      <td>0.0</td>\n",
       "      <td>0.0</td>\n",
       "      <td>0.007828</td>\n",
       "      <td>-0.037569</td>\n",
       "      <td>0.032656</td>\n",
       "      <td>-0.052478</td>\n",
       "      <td>-0.070570</td>\n",
       "      <td>0.280028</td>\n",
       "      <td>0.272579</td>\n",
       "      <td>0.272579</td>\n",
       "      <td>0.272579</td>\n",
       "    </tr>\n",
       "    <tr>\n",
       "      <th>3</th>\n",
       "      <td>1679443205352709632</td>\n",
       "      <td>-1</td>\n",
       "      <td>-0.999344</td>\n",
       "      <td>-8.021585</td>\n",
       "      <td>0.84</td>\n",
       "      <td>2.442347</td>\n",
       "      <td>1.952</td>\n",
       "      <td>1.952</td>\n",
       "      <td>1.952</td>\n",
       "      <td>1.952</td>\n",
       "      <td>1.952</td>\n",
       "      <td>-0.15497</td>\n",
       "      <td>-0.17668</td>\n",
       "      <td>-0.16682</td>\n",
       "      <td>-1.13662</td>\n",
       "      <td>-1.40737</td>\n",
       "      <td>0.0</td>\n",
       "      <td>0.0</td>\n",
       "      <td>0.0</td>\n",
       "      <td>0.0</td>\n",
       "      <td>0.0</td>\n",
       "      <td>0.010674</td>\n",
       "      <td>-0.037569</td>\n",
       "      <td>0.032656</td>\n",
       "      <td>-0.034195</td>\n",
       "      <td>-0.070570</td>\n",
       "      <td>0.280028</td>\n",
       "      <td>0.272579</td>\n",
       "      <td>0.272579</td>\n",
       "      <td>0.272579</td>\n",
       "    </tr>\n",
       "    <tr>\n",
       "      <th>4</th>\n",
       "      <td>1679443205356733140</td>\n",
       "      <td>-1</td>\n",
       "      <td>-0.999344</td>\n",
       "      <td>-8.021585</td>\n",
       "      <td>0.84</td>\n",
       "      <td>2.442347</td>\n",
       "      <td>1.952</td>\n",
       "      <td>1.952</td>\n",
       "      <td>1.952</td>\n",
       "      <td>1.952</td>\n",
       "      <td>1.952</td>\n",
       "      <td>-0.15497</td>\n",
       "      <td>-0.17668</td>\n",
       "      <td>-0.16682</td>\n",
       "      <td>-1.13662</td>\n",
       "      <td>-1.40737</td>\n",
       "      <td>0.0</td>\n",
       "      <td>0.0</td>\n",
       "      <td>0.0</td>\n",
       "      <td>0.0</td>\n",
       "      <td>0.0</td>\n",
       "      <td>0.010674</td>\n",
       "      <td>-0.037569</td>\n",
       "      <td>0.032656</td>\n",
       "      <td>-0.034195</td>\n",
       "      <td>-0.070570</td>\n",
       "      <td>0.280028</td>\n",
       "      <td>0.272579</td>\n",
       "      <td>0.272579</td>\n",
       "      <td>0.272579</td>\n",
       "    </tr>\n",
       "  </tbody>\n",
       "</table>\n",
       "</div>"
      ],
      "text/plain": [
       "              local_ts  target  book_future_imabalance  \\\n",
       "0  1679443205344112384      -1               -0.999419   \n",
       "1  1679443205349040896      -1               -0.999419   \n",
       "2  1679443205350975232      -1               -0.999419   \n",
       "3  1679443205352709632      -1               -0.999344   \n",
       "4  1679443205356733140      -1               -0.999344   \n",
       "\n",
       "   book_future_log_imbalance_custom  book_spot_imabalance  \\\n",
       "0                         -8.143953                  0.84   \n",
       "1                         -8.143953                  0.84   \n",
       "2                         -8.143953                  0.84   \n",
       "3                         -8.021585                  0.84   \n",
       "4                         -8.021585                  0.84   \n",
       "\n",
       "   book_spot_log_imbalance_custom  trades_future_imb_100ms  \\\n",
       "0                        2.442347                    0.117   \n",
       "1                        2.442347                    0.865   \n",
       "2                        2.442347                    0.865   \n",
       "3                        2.442347                    1.952   \n",
       "4                        2.442347                    1.952   \n",
       "\n",
       "   trades_future_imb_250ms  trades_future_imb_500ms  trades_future_imb_1000ms  \\\n",
       "0                    0.117                    0.117                     0.117   \n",
       "1                    0.865                    0.865                     0.865   \n",
       "2                    0.865                    0.865                     0.865   \n",
       "3                    1.952                    1.952                     1.952   \n",
       "4                    1.952                    1.952                     1.952   \n",
       "\n",
       "   trades_future_imb_2000ms  trades_spot_imb_100ms  trades_spot_imb_250ms  \\\n",
       "0                     0.117               -0.15459               -0.17668   \n",
       "1                     0.865               -0.15459               -0.17668   \n",
       "2                     0.865               -0.15459               -0.17668   \n",
       "3                     1.952               -0.15497               -0.17668   \n",
       "4                     1.952               -0.15497               -0.17668   \n",
       "\n",
       "   trades_spot_imb_500ms  trades_spot_imb_1000ms  trades_spot_imb_2000ms  \\\n",
       "0               -0.16682                -1.14067                -1.31537   \n",
       "1               -0.16682                -1.14067                -1.40737   \n",
       "2               -0.16682                -1.14067                -1.40737   \n",
       "3               -0.16682                -1.13662                -1.40737   \n",
       "4               -0.16682                -1.13662                -1.40737   \n",
       "\n",
       "   trades_future_past_returns_100ms  trades_future_past_returns_250ms  \\\n",
       "0                               0.0                               0.0   \n",
       "1                               0.0                               0.0   \n",
       "2                               0.0                               0.0   \n",
       "3                               0.0                               0.0   \n",
       "4                               0.0                               0.0   \n",
       "\n",
       "   trades_future_past_returns_500ms  trades_future_past_returns_1000ms  \\\n",
       "0                               0.0                                0.0   \n",
       "1                               0.0                                0.0   \n",
       "2                               0.0                                0.0   \n",
       "3                               0.0                                0.0   \n",
       "4                               0.0                                0.0   \n",
       "\n",
       "   trades_future_past_returns_2000ms  trades_spot_past_returns_100ms  \\\n",
       "0                                0.0                       -0.021526   \n",
       "1                                0.0                        0.007828   \n",
       "2                                0.0                        0.007828   \n",
       "3                                0.0                        0.010674   \n",
       "4                                0.0                        0.010674   \n",
       "\n",
       "   trades_spot_past_returns_250ms  trades_spot_past_returns_500ms  \\\n",
       "0                       -0.066921                        0.003301   \n",
       "1                       -0.037569                        0.032656   \n",
       "2                       -0.037569                        0.032656   \n",
       "3                       -0.037569                        0.032656   \n",
       "4                       -0.037569                        0.032656   \n",
       "\n",
       "   trades_spot_past_returns_1000ms  trades_spot_past_returns_2000ms  \\\n",
       "0                        -0.081830                        -0.079251   \n",
       "1                        -0.052478                        -0.070570   \n",
       "2                        -0.052478                        -0.070570   \n",
       "3                        -0.034195                        -0.070570   \n",
       "4                        -0.034195                        -0.070570   \n",
       "\n",
       "   trades_div_5000.0ms  trades_div_10000.0ms  trades_div_20000.0ms  \\\n",
       "0             0.571793              0.567035              0.567035   \n",
       "1             0.280028              0.272579              0.272579   \n",
       "2             0.280028              0.272579              0.272579   \n",
       "3             0.280028              0.272579              0.272579   \n",
       "4             0.280028              0.272579              0.272579   \n",
       "\n",
       "   trades_div_40000.0ms  \n",
       "0              0.567035  \n",
       "1              0.272579  \n",
       "2              0.272579  \n",
       "3              0.272579  \n",
       "4              0.272579  "
      ]
     },
     "execution_count": 39,
     "metadata": {},
     "output_type": "execute_result"
    }
   ],
   "source": [
    "df.head()"
   ]
  },
  {
   "cell_type": "markdown",
   "id": "77a6f821",
   "metadata": {},
   "source": [
    "## Model"
   ]
  },
  {
   "cell_type": "code",
   "execution_count": 40,
   "id": "4be0206f",
   "metadata": {},
   "outputs": [],
   "source": [
    "from sklearn.linear_model import LinearRegression\n",
    "from sklearn.model_selection import train_test_split\n",
    "from metric_clf_hft import metric"
   ]
  },
  {
   "cell_type": "code",
   "execution_count": 41,
   "id": "adb4d385",
   "metadata": {},
   "outputs": [],
   "source": [
    "df_cut = df.drop(columns = [\"local_ts\"])[1000:] \n",
    "# дропаем несколько первых тк для них еще мало данных для past_return \n",
    "X_ = df_cut.drop(columns = [\"target\"])\n",
    "y_ = df_cut.target"
   ]
  },
  {
   "cell_type": "code",
   "execution_count": 42,
   "id": "d8291c8c",
   "metadata": {},
   "outputs": [],
   "source": [
    "X_train, X_test, y_train, y_test = train_test_split(X_, y_, test_size = 0.3, random_state=42)"
   ]
  },
  {
   "cell_type": "code",
   "execution_count": 43,
   "id": "bb3e574a",
   "metadata": {},
   "outputs": [
    {
     "data": {
      "text/plain": [
       "LinearRegression()"
      ]
     },
     "execution_count": 43,
     "metadata": {},
     "output_type": "execute_result"
    }
   ],
   "source": [
    "model = LinearRegression() # maybe try classification next\n",
    "model.fit(X_train, y_train)"
   ]
  },
  {
   "cell_type": "code",
   "execution_count": 45,
   "id": "87895dde",
   "metadata": {},
   "outputs": [],
   "source": [
    "y_pred = model.predict(X_test)"
   ]
  },
  {
   "cell_type": "code",
   "execution_count": 46,
   "id": "4b236fb4",
   "metadata": {},
   "outputs": [
    {
     "data": {
      "application/vnd.jupyter.widget-view+json": {
       "model_id": "01db4da7f9e3439e94273407bc99df68",
       "version_major": 2,
       "version_minor": 0
      },
      "text/plain": [
       "HBox(children=(FloatProgress(value=0.0, max=5.0), HTML(value='')))"
      ]
     },
     "metadata": {},
     "output_type": "display_data"
    },
    {
     "name": "stdout",
     "output_type": "stream",
     "text": [
      "0.001 1022.2776351738835\n",
      "0.05 846.6540213762278\n",
      "0.1 561.0913819121478\n",
      "0.2 -141.67847047991344\n",
      "0.3 -591.6044743918035\n",
      "\n"
     ]
    }
   ],
   "source": [
    "# metric doesn't punish enough for spamming answers \n",
    "# or maybe reality doesn't (with low fees)\n",
    "# + i not doing backtesting\n",
    "for th in tqdm([0.001, 0.05, 0.1, 0.2, 0.3]):\n",
    "    ans = np.zeros(y_pred.shape[0])\n",
    "    ans[y_pred > th] = 1\n",
    "    ans[y_pred < -th] = -1\n",
    "    print(th, metric(y_test, ans))"
   ]
  },
  {
   "cell_type": "code",
   "execution_count": 71,
   "id": "9deb5671",
   "metadata": {},
   "outputs": [],
   "source": [
    "ans = np.zeros(y_pred.shape[0])\n",
    "th = 1e-6\n",
    "ans[y_pred > th] = 1\n",
    "ans[y_pred < -th] = -1"
   ]
  },
  {
   "cell_type": "code",
   "execution_count": 72,
   "id": "6e753a96",
   "metadata": {},
   "outputs": [
    {
     "data": {
      "text/plain": [
       "{-1.0: 5554703, 0.0: 50, 1.0: 5711943}"
      ]
     },
     "execution_count": 72,
     "metadata": {},
     "output_type": "execute_result"
    }
   ],
   "source": [
    "unique, counts = np.unique(ans, return_counts=True)\n",
    "dict(zip(unique,counts))"
   ]
  },
  {
   "cell_type": "code",
   "execution_count": 73,
   "id": "9af25c89",
   "metadata": {},
   "outputs": [
    {
     "data": {
      "text/plain": [
       "1024.8312582037825"
      ]
     },
     "execution_count": 73,
     "metadata": {},
     "output_type": "execute_result"
    }
   ],
   "source": [
    "metric(y_test, ans)"
   ]
  },
  {
   "cell_type": "markdown",
   "id": "650e0b08",
   "metadata": {},
   "source": [
    "Самые важные для лин модели фичи (часть фичей не нормализирована, так что не супер полезные инсайды)"
   ]
  },
  {
   "cell_type": "code",
   "execution_count": 63,
   "id": "06ae7773",
   "metadata": {},
   "outputs": [
    {
     "data": {
      "text/plain": [
       "Index(['trades_future_past_returns_100ms', 'trades_future_past_returns_500ms',\n",
       "       'trades_future_past_returns_250ms', 'trades_div_20000.0ms',\n",
       "       'trades_spot_past_returns_2000ms', 'trades_spot_imb_2000ms',\n",
       "       'trades_future_imb_2000ms', 'trades_future_imb_1000ms'],\n",
       "      dtype='object')"
      ]
     },
     "execution_count": 63,
     "metadata": {},
     "output_type": "execute_result"
    }
   ],
   "source": [
    "X_train.columns[np.argpartition(model.coef_, 8)[:8]]"
   ]
  },
  {
   "cell_type": "code",
   "execution_count": null,
   "id": "86a2cc4c",
   "metadata": {},
   "outputs": [],
   "source": []
  }
 ],
 "metadata": {
  "kernelspec": {
   "display_name": "plenoxel",
   "language": "python",
   "name": "plenoxel"
  },
  "language_info": {
   "codemirror_mode": {
    "name": "ipython",
    "version": 3
   },
   "file_extension": ".py",
   "mimetype": "text/x-python",
   "name": "python",
   "nbconvert_exporter": "python",
   "pygments_lexer": "ipython3",
   "version": "3.7.6"
  }
 },
 "nbformat": 4,
 "nbformat_minor": 5
}
